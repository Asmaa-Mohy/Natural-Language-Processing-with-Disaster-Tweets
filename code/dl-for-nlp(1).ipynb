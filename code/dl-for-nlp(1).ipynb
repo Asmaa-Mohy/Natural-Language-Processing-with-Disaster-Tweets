{
 "cells": [
  {
   "cell_type": "code",
   "execution_count": 1,
   "id": "ed1a0e9a",
   "metadata": {
    "_cell_guid": "b1076dfc-b9ad-4769-8c92-a6c4dae69d19",
    "_uuid": "8f2839f25d086af736a60e9eeb907d3b93b6e0e5",
    "execution": {
     "iopub.execute_input": "2022-06-28T13:54:39.087928Z",
     "iopub.status.busy": "2022-06-28T13:54:39.087324Z",
     "iopub.status.idle": "2022-06-28T13:54:39.103146Z",
     "shell.execute_reply": "2022-06-28T13:54:39.102220Z"
    },
    "papermill": {
     "duration": 0.039996,
     "end_time": "2022-06-28T13:54:39.106052",
     "exception": false,
     "start_time": "2022-06-28T13:54:39.066056",
     "status": "completed"
    },
    "tags": []
   },
   "outputs": [
    {
     "name": "stdout",
     "output_type": "stream",
     "text": [
      "/kaggle/input/nlp-getting-started/sample_submission.csv\n",
      "/kaggle/input/nlp-getting-started/train.csv\n",
      "/kaggle/input/nlp-getting-started/test.csv\n"
     ]
    }
   ],
   "source": [
    "# This Python 3 environment comes with many helpful analytics libraries installed\n",
    "# It is defined by the kaggle/python Docker image: https://github.com/kaggle/docker-python\n",
    "# For example, here's several helpful packages to load\n",
    "\n",
    "import numpy as np # linear algebra\n",
    "import pandas as pd # data processing, CSV file I/O (e.g. pd.read_csv)\n",
    "\n",
    "# Input data files are available in the read-only \"../input/\" directory\n",
    "# For example, running this (by clicking run or pressing Shift+Enter) will list all files under the input directory\n",
    "\n",
    "import os\n",
    "for dirname, _, filenames in os.walk('/kaggle/input'):\n",
    "    for filename in filenames:\n",
    "        print(os.path.join(dirname, filename))\n",
    "\n",
    "# You can write up to 20GB to the current directory (/kaggle/working/) that gets preserved as output when you create a version using \"Save & Run All\" \n",
    "# You can also write temporary files to /kaggle/temp/, but they won't be saved outside of the current session"
   ]
  },
  {
   "cell_type": "markdown",
   "id": "f86f8146",
   "metadata": {
    "papermill": {
     "duration": 0.018294,
     "end_time": "2022-06-28T13:54:39.142360",
     "exception": false,
     "start_time": "2022-06-28T13:54:39.124066",
     "status": "completed"
    },
    "tags": []
   },
   "source": [
    "## Imports"
   ]
  },
  {
   "cell_type": "code",
   "execution_count": 2,
   "id": "eaee3925",
   "metadata": {
    "execution": {
     "iopub.execute_input": "2022-06-28T13:54:39.179359Z",
     "iopub.status.busy": "2022-06-28T13:54:39.178457Z",
     "iopub.status.idle": "2022-06-28T13:54:46.883559Z",
     "shell.execute_reply": "2022-06-28T13:54:46.881703Z"
    },
    "papermill": {
     "duration": 7.726188,
     "end_time": "2022-06-28T13:54:46.885910",
     "exception": false,
     "start_time": "2022-06-28T13:54:39.159722",
     "status": "completed"
    },
    "tags": []
   },
   "outputs": [
    {
     "name": "stdout",
     "output_type": "stream",
     "text": [
      "[nltk_data] Downloading package punkt to /usr/share/nltk_data...\n",
      "[nltk_data]   Package punkt is already up-to-date!\n",
      "[nltk_data] Downloading package stopwords to /usr/share/nltk_data...\n",
      "[nltk_data]   Package stopwords is already up-to-date!\n",
      "[nltk_data] Downloading package wordnet to /usr/share/nltk_data...\n",
      "[nltk_data]   Package wordnet is already up-to-date!\n"
     ]
    }
   ],
   "source": [
    "from tensorflow.keras.preprocessing.text import text_to_word_sequence\n",
    "from tensorflow.keras.preprocessing.text import Tokenizer  \n",
    "from tensorflow.keras.preprocessing.sequence import pad_sequences\n",
    "from tensorflow.keras import models\n",
    "from tensorflow.keras import layers\n",
    "from tensorflow.keras import losses\n",
    "from tensorflow.keras import metrics\n",
    "from tensorflow.keras import optimizers\n",
    "from tensorflow.keras.utils import plot_model\n",
    "\n",
    "import numpy as np\n",
    "import matplotlib.pyplot as plt\n",
    "\n",
    "from sklearn.feature_extraction.text import CountVectorizer\n",
    "from sklearn.feature_extraction.text import TfidfVectorizer\n",
    "from sklearn.model_selection import train_test_split\n",
    "\n",
    "from collections import Counter\n",
    "from pathlib import Path\n",
    "import os\n",
    "import numpy as np\n",
    "import re\n",
    "import string\n",
    "import nltk\n",
    "nltk.download('punkt')\n",
    "from nltk.tokenize import word_tokenize\n",
    "from nltk.corpus import stopwords\n",
    "nltk.download('stopwords')\n",
    "from nltk.stem.porter import PorterStemmer\n",
    "from nltk.stem import WordNetLemmatizer\n",
    "nltk.download('wordnet')\n",
    "from nltk.corpus import wordnet\n",
    "import unicodedata\n",
    "import html\n",
    "stop_words = stopwords.words('english')"
   ]
  },
  {
   "cell_type": "markdown",
   "id": "bd2360fd",
   "metadata": {
    "papermill": {
     "duration": 0.018632,
     "end_time": "2022-06-28T13:54:46.923289",
     "exception": false,
     "start_time": "2022-06-28T13:54:46.904657",
     "status": "completed"
    },
    "tags": []
   },
   "source": [
    "## Load Data"
   ]
  },
  {
   "cell_type": "code",
   "execution_count": 3,
   "id": "7fd06b1d",
   "metadata": {
    "execution": {
     "iopub.execute_input": "2022-06-28T13:54:46.963405Z",
     "iopub.status.busy": "2022-06-28T13:54:46.961969Z",
     "iopub.status.idle": "2022-06-28T13:54:47.025284Z",
     "shell.execute_reply": "2022-06-28T13:54:47.024307Z"
    },
    "papermill": {
     "duration": 0.085875,
     "end_time": "2022-06-28T13:54:47.028014",
     "exception": false,
     "start_time": "2022-06-28T13:54:46.942139",
     "status": "completed"
    },
    "tags": []
   },
   "outputs": [],
   "source": [
    "train_df = pd.read_csv(\"../input/nlp-getting-started/train.csv\")\n",
    "test_df = pd.read_csv(\"../input/nlp-getting-started/test.csv\")"
   ]
  },
  {
   "cell_type": "code",
   "execution_count": 4,
   "id": "f5642242",
   "metadata": {
    "execution": {
     "iopub.execute_input": "2022-06-28T13:54:47.068309Z",
     "iopub.status.busy": "2022-06-28T13:54:47.067254Z",
     "iopub.status.idle": "2022-06-28T13:54:47.092569Z",
     "shell.execute_reply": "2022-06-28T13:54:47.091646Z"
    },
    "papermill": {
     "duration": 0.047101,
     "end_time": "2022-06-28T13:54:47.094720",
     "exception": false,
     "start_time": "2022-06-28T13:54:47.047619",
     "status": "completed"
    },
    "tags": []
   },
   "outputs": [
    {
     "data": {
      "text/plain": [
       "\"No way...I can't eat that shit\""
      ]
     },
     "execution_count": 4,
     "metadata": {},
     "output_type": "execute_result"
    }
   ],
   "source": [
    "train_df[train_df[\"target\"] == 0][\"text\"].values[10]"
   ]
  },
  {
   "cell_type": "code",
   "execution_count": 5,
   "id": "7bf032a4",
   "metadata": {
    "execution": {
     "iopub.execute_input": "2022-06-28T13:54:47.133610Z",
     "iopub.status.busy": "2022-06-28T13:54:47.132939Z",
     "iopub.status.idle": "2022-06-28T13:54:47.141621Z",
     "shell.execute_reply": "2022-06-28T13:54:47.140597Z"
    },
    "papermill": {
     "duration": 0.03036,
     "end_time": "2022-06-28T13:54:47.143820",
     "exception": false,
     "start_time": "2022-06-28T13:54:47.113460",
     "status": "completed"
    },
    "tags": []
   },
   "outputs": [
    {
     "data": {
      "text/plain": [
       "'Three people died from the heat wave so far'"
      ]
     },
     "execution_count": 5,
     "metadata": {},
     "output_type": "execute_result"
    }
   ],
   "source": [
    "train_df[train_df[\"target\"] == 1][\"text\"].values[10]"
   ]
  },
  {
   "cell_type": "markdown",
   "id": "247d6ce2",
   "metadata": {
    "papermill": {
     "duration": 0.018885,
     "end_time": "2022-06-28T13:54:47.181556",
     "exception": false,
     "start_time": "2022-06-28T13:54:47.162671",
     "status": "completed"
    },
    "tags": []
   },
   "source": [
    "## 1. Perform proper Text preprocessing steps\n",
    "\n",
    "* Data cleaning :\n",
    "   *    Remove special characters and punctuations"
   ]
  },
  {
   "cell_type": "code",
   "execution_count": 6,
   "id": "736976e7",
   "metadata": {
    "execution": {
     "iopub.execute_input": "2022-06-28T13:54:47.221377Z",
     "iopub.status.busy": "2022-06-28T13:54:47.220501Z",
     "iopub.status.idle": "2022-06-28T13:54:47.231568Z",
     "shell.execute_reply": "2022-06-28T13:54:47.230516Z"
    },
    "papermill": {
     "duration": 0.033448,
     "end_time": "2022-06-28T13:54:47.233511",
     "exception": false,
     "start_time": "2022-06-28T13:54:47.200063",
     "status": "completed"
    },
    "tags": []
   },
   "outputs": [],
   "source": [
    "def subtext_repeation_in_df(df, col, subtext, num):\n",
    "    # Calc statistics as table for character repetition (1...num times) from subtext list in the df[col]\n",
    "    \n",
    "    text = \"\".join(df[col])\n",
    "    result = pd.DataFrame(columns = ['subtext', 'count'])\n",
    "    i = 0\n",
    "    if (len(df) > 0) and (len(subtext) > 0):\n",
    "        for c in subtext:\n",
    "            for j in range(num):\n",
    "                cs = c*(j+1)\n",
    "                result.loc[i,'count'] = text.count(cs)\n",
    "                if c == ' ':\n",
    "                    cs = cs.replace(' ','<space>')\n",
    "                result.loc[i,'subtext'] = cs                \n",
    "                i += 1\n",
    "    print('Number of all data is', len(df))\n",
    "    result = result[result['count'] > 0].reset_index(drop=True)\n",
    "    display(result.sort_values(by='count',ascending=False))\n",
    "    \n",
    "    print('Text examples')\n",
    "    problem_examples = pd.DataFrame(columns = ['problem_examples'])\n",
    "    problem_examples['problem_examples'] = ''\n",
    "    for i in range(len(result)):\n",
    "        problem_examples.loc[i,'problem_examples'] = df[df[col].str.find(result.loc[i,'subtext'])>-1].reset_index(drop=True).loc[0, col]\n",
    "    problem_examples = problem_examples.drop_duplicates()\n",
    "    display(problem_examples)"
   ]
  },
  {
   "cell_type": "code",
   "execution_count": 7,
   "id": "df5950cc",
   "metadata": {
    "execution": {
     "iopub.execute_input": "2022-06-28T13:54:47.273552Z",
     "iopub.status.busy": "2022-06-28T13:54:47.272531Z",
     "iopub.status.idle": "2022-06-28T13:54:48.255656Z",
     "shell.execute_reply": "2022-06-28T13:54:48.254724Z"
    },
    "papermill": {
     "duration": 1.005323,
     "end_time": "2022-06-28T13:54:48.257731",
     "exception": false,
     "start_time": "2022-06-28T13:54:47.252408",
     "status": "completed"
    },
    "tags": []
   },
   "outputs": [
    {
     "name": "stdout",
     "output_type": "stream",
     "text": [
      "Statistics for punctuation marks repetition in training data\n",
      "Number of all data is 7613\n"
     ]
    },
    {
     "data": {
      "text/html": [
       "<div>\n",
       "<style scoped>\n",
       "    .dataframe tbody tr th:only-of-type {\n",
       "        vertical-align: middle;\n",
       "    }\n",
       "\n",
       "    .dataframe tbody tr th {\n",
       "        vertical-align: top;\n",
       "    }\n",
       "\n",
       "    .dataframe thead th {\n",
       "        text-align: right;\n",
       "    }\n",
       "</style>\n",
       "<table border=\"1\" class=\"dataframe\">\n",
       "  <thead>\n",
       "    <tr style=\"text-align: right;\">\n",
       "      <th></th>\n",
       "      <th>subtext</th>\n",
       "      <th>count</th>\n",
       "    </tr>\n",
       "  </thead>\n",
       "  <tbody>\n",
       "    <tr>\n",
       "      <th>53</th>\n",
       "      <td>/</td>\n",
       "      <td>14585</td>\n",
       "    </tr>\n",
       "    <tr>\n",
       "      <th>43</th>\n",
       "      <td>.</td>\n",
       "      <td>11696</td>\n",
       "    </tr>\n",
       "    <tr>\n",
       "      <th>55</th>\n",
       "      <td>:</td>\n",
       "      <td>6910</td>\n",
       "    </tr>\n",
       "    <tr>\n",
       "      <th>54</th>\n",
       "      <td>//</td>\n",
       "      <td>4742</td>\n",
       "    </tr>\n",
       "    <tr>\n",
       "      <th>10</th>\n",
       "      <td>#</td>\n",
       "      <td>3403</td>\n",
       "    </tr>\n",
       "    <tr>\n",
       "      <th>...</th>\n",
       "      <td>...</td>\n",
       "      <td>...</td>\n",
       "    </tr>\n",
       "    <tr>\n",
       "      <th>81</th>\n",
       "      <td>]]</td>\n",
       "      <td>1</td>\n",
       "    </tr>\n",
       "    <tr>\n",
       "      <th>14</th>\n",
       "      <td>$$$</td>\n",
       "      <td>1</td>\n",
       "    </tr>\n",
       "    <tr>\n",
       "      <th>79</th>\n",
       "      <td>\\\\\\</td>\n",
       "      <td>1</td>\n",
       "    </tr>\n",
       "    <tr>\n",
       "      <th>78</th>\n",
       "      <td>\\\\</td>\n",
       "      <td>1</td>\n",
       "    </tr>\n",
       "    <tr>\n",
       "      <th>15</th>\n",
       "      <td>$$$$</td>\n",
       "      <td>1</td>\n",
       "    </tr>\n",
       "  </tbody>\n",
       "</table>\n",
       "<p>96 rows × 2 columns</p>\n",
       "</div>"
      ],
      "text/plain": [
       "   subtext  count\n",
       "53       /  14585\n",
       "43       .  11696\n",
       "55       :   6910\n",
       "54      //   4742\n",
       "10       #   3403\n",
       "..     ...    ...\n",
       "81      ]]      1\n",
       "14     $$$      1\n",
       "79     \\\\\\      1\n",
       "78      \\\\      1\n",
       "15    $$$$      1\n",
       "\n",
       "[96 rows x 2 columns]"
      ]
     },
     "metadata": {},
     "output_type": "display_data"
    },
    {
     "name": "stdout",
     "output_type": "stream",
     "text": [
      "Text examples\n"
     ]
    },
    {
     "data": {
      "text/html": [
       "<div>\n",
       "<style scoped>\n",
       "    .dataframe tbody tr th:only-of-type {\n",
       "        vertical-align: middle;\n",
       "    }\n",
       "\n",
       "    .dataframe tbody tr th {\n",
       "        vertical-align: top;\n",
       "    }\n",
       "\n",
       "    .dataframe thead th {\n",
       "        text-align: right;\n",
       "    }\n",
       "</style>\n",
       "<table border=\"1\" class=\"dataframe\">\n",
       "  <thead>\n",
       "    <tr style=\"text-align: right;\">\n",
       "      <th></th>\n",
       "      <th>problem_examples</th>\n",
       "    </tr>\n",
       "  </thead>\n",
       "  <tbody>\n",
       "    <tr>\n",
       "      <th>0</th>\n",
       "      <td>What a goooooooaaaaaal!!!!!!</td>\n",
       "    </tr>\n",
       "    <tr>\n",
       "      <th>6</th>\n",
       "      <td>White family (supposedly representing America'...</td>\n",
       "    </tr>\n",
       "    <tr>\n",
       "      <th>10</th>\n",
       "      <td>Our Deeds are the Reason of this #earthquake M...</td>\n",
       "    </tr>\n",
       "    <tr>\n",
       "      <th>11</th>\n",
       "      <td>&amp;gt;&amp;gt; $15 Aftershock : Protect Yourself and...</td>\n",
       "    </tr>\n",
       "    <tr>\n",
       "      <th>13</th>\n",
       "      <td>Help me win $$$$ by having the most shares on ...</td>\n",
       "    </tr>\n",
       "    <tr>\n",
       "      <th>16</th>\n",
       "      <td>#Colorado #Avalanche Men's Official Colorado A...</td>\n",
       "    </tr>\n",
       "    <tr>\n",
       "      <th>17</th>\n",
       "      <td>Rene Ablaze &amp;amp; Jacinta - Secret 2k13 (Falle...</td>\n",
       "    </tr>\n",
       "    <tr>\n",
       "      <th>18</th>\n",
       "      <td>All residents asked to 'shelter in place' are ...</td>\n",
       "    </tr>\n",
       "    <tr>\n",
       "      <th>19</th>\n",
       "      <td>@RedCoatJackpot *As it was typical for them th...</td>\n",
       "    </tr>\n",
       "    <tr>\n",
       "      <th>20</th>\n",
       "      <td>@TelegraphWorld lets hope it's a upper class w...</td>\n",
       "    </tr>\n",
       "    <tr>\n",
       "      <th>22</th>\n",
       "      <td>((OFFICIAL VID)) #DoubleCups &amp;gt;&amp;gt; https://...</td>\n",
       "    </tr>\n",
       "    <tr>\n",
       "      <th>23</th>\n",
       "      <td>London is cool ;)</td>\n",
       "    </tr>\n",
       "    <tr>\n",
       "      <th>25</th>\n",
       "      <td>@LauradeHolanda I have the Forrest version fro...</td>\n",
       "    </tr>\n",
       "    <tr>\n",
       "      <th>26</th>\n",
       "      <td>@_itsdanie_ noooo?? I almost drowned you once ...</td>\n",
       "    </tr>\n",
       "    <tr>\n",
       "      <th>27</th>\n",
       "      <td>Aftershock was the most terrifying best roller...</td>\n",
       "    </tr>\n",
       "    <tr>\n",
       "      <th>28</th>\n",
       "      <td>**OFFICIAL VID** #TheReal &amp;gt;&amp;gt;&amp;gt; https:/...</td>\n",
       "    </tr>\n",
       "    <tr>\n",
       "      <th>29</th>\n",
       "      <td>Hunger hits me and I can't function probably w...</td>\n",
       "    </tr>\n",
       "    <tr>\n",
       "      <th>30</th>\n",
       "      <td>+ Nicole Fletcher one of a victim of crashed a...</td>\n",
       "    </tr>\n",
       "    <tr>\n",
       "      <th>31</th>\n",
       "      <td>Morgan Silver Dollar 1880 S Gem BU DMPL Cameo ...</td>\n",
       "    </tr>\n",
       "    <tr>\n",
       "      <th>35</th>\n",
       "      <td>Morgan Silver Dollar 1921 P CH Gem Bu PL Blazi...</td>\n",
       "    </tr>\n",
       "    <tr>\n",
       "      <th>36</th>\n",
       "      <td>13,000 people receive #wildfires evacuation or...</td>\n",
       "    </tr>\n",
       "    <tr>\n",
       "      <th>37</th>\n",
       "      <td>#RockyFire Update =&gt; California Hwy. 20 closed...</td>\n",
       "    </tr>\n",
       "    <tr>\n",
       "      <th>38</th>\n",
       "      <td>@HopefulBatgirl went down I was beaten and blo...</td>\n",
       "    </tr>\n",
       "    <tr>\n",
       "      <th>40</th>\n",
       "      <td>RAIN RAIN GO AWAY... A soaker is on the way \\n...</td>\n",
       "    </tr>\n",
       "    <tr>\n",
       "      <th>43</th>\n",
       "      <td>Forest fire near La Ronge Sask. Canada</td>\n",
       "    </tr>\n",
       "    <tr>\n",
       "      <th>44</th>\n",
       "      <td>I'm on top of the hill and I can see a fire in...</td>\n",
       "    </tr>\n",
       "    <tr>\n",
       "      <th>46</th>\n",
       "      <td>this is ridiculous....</td>\n",
       "    </tr>\n",
       "    <tr>\n",
       "      <th>47</th>\n",
       "      <td>the pastor was not in the scene of the acciden...</td>\n",
       "    </tr>\n",
       "    <tr>\n",
       "      <th>49</th>\n",
       "      <td>I didn`t want to hurt you but the fear drove m...</td>\n",
       "    </tr>\n",
       "    <tr>\n",
       "      <th>53</th>\n",
       "      <td>@bbcmtd Wholesale Markets ablaze http://t.co/l...</td>\n",
       "    </tr>\n",
       "    <tr>\n",
       "      <th>55</th>\n",
       "      <td>Cooool :)</td>\n",
       "    </tr>\n",
       "    <tr>\n",
       "      <th>56</th>\n",
       "      <td>:StarMade: :Stardate 3: :Planetary Annihilatio...</td>\n",
       "    </tr>\n",
       "    <tr>\n",
       "      <th>58</th>\n",
       "      <td>@Startide It's hotter there than Phoenix this ...</td>\n",
       "    </tr>\n",
       "    <tr>\n",
       "      <th>60</th>\n",
       "      <td>Did you miss the #BitCoin explosion - Don't mi...</td>\n",
       "    </tr>\n",
       "    <tr>\n",
       "      <th>63</th>\n",
       "      <td>What's up man?</td>\n",
       "    </tr>\n",
       "    <tr>\n",
       "      <th>64</th>\n",
       "      <td>Had an awesome time visiting the CFC head offi...</td>\n",
       "    </tr>\n",
       "    <tr>\n",
       "      <th>65</th>\n",
       "      <td>SOOOO PUMPED FOR ABLAZE ???? @southridgelife</td>\n",
       "    </tr>\n",
       "    <tr>\n",
       "      <th>67</th>\n",
       "      <td>Noches El-Bestia '@Alexis_Sanchez: happy to se...</td>\n",
       "    </tr>\n",
       "    <tr>\n",
       "      <th>69</th>\n",
       "      <td>I'm not gonna lie I'm kinda ready to attack my...</td>\n",
       "    </tr>\n",
       "    <tr>\n",
       "      <th>74</th>\n",
       "      <td>Nepal earthquake 3 months on: Women fear abuse...</td>\n",
       "    </tr>\n",
       "    <tr>\n",
       "      <th>75</th>\n",
       "      <td>320 [IR] ICEMOON [AFTERSHOCK] | http://t.co/yN...</td>\n",
       "    </tr>\n",
       "    <tr>\n",
       "      <th>76</th>\n",
       "      <td>@VillicanaAlicia [[Is it Darude Sandstorm?]]</td>\n",
       "    </tr>\n",
       "    <tr>\n",
       "      <th>77</th>\n",
       "      <td>Marquei como visto Dragon Ball Super - 1x1 - T...</td>\n",
       "    </tr>\n",
       "    <tr>\n",
       "      <th>78</th>\n",
       "      <td>@lightseraphs pissed at you and could have the...</td>\n",
       "    </tr>\n",
       "    <tr>\n",
       "      <th>82</th>\n",
       "      <td>#Greece's tax revenues collapse as debt crisis...</td>\n",
       "    </tr>\n",
       "    <tr>\n",
       "      <th>84</th>\n",
       "      <td>@a__cee DAEM GIRL SMOOTH ASF c: ?</td>\n",
       "    </tr>\n",
       "    <tr>\n",
       "      <th>85</th>\n",
       "      <td>am boy @Crash_______  https://t.co/f5Ylp7pfN7</td>\n",
       "    </tr>\n",
       "    <tr>\n",
       "      <th>91</th>\n",
       "      <td>{:en}Tension In Bayelsa As Patience Jonathan P...</td>\n",
       "    </tr>\n",
       "    <tr>\n",
       "      <th>93</th>\n",
       "      <td>|| So.... I just watched the trailed for The D...</td>\n",
       "    </tr>\n",
       "    <tr>\n",
       "      <th>94</th>\n",
       "      <td>å¤} New Ladies Shoulder Tote #Handbag Faux Lea...</td>\n",
       "    </tr>\n",
       "    <tr>\n",
       "      <th>95</th>\n",
       "      <td>#Tb #throwback ??\\n\\n??~ You want a battle? He...</td>\n",
       "    </tr>\n",
       "  </tbody>\n",
       "</table>\n",
       "</div>"
      ],
      "text/plain": [
       "                                     problem_examples\n",
       "0                        What a goooooooaaaaaal!!!!!!\n",
       "6   White family (supposedly representing America'...\n",
       "10  Our Deeds are the Reason of this #earthquake M...\n",
       "11  &gt;&gt; $15 Aftershock : Protect Yourself and...\n",
       "13  Help me win $$$$ by having the most shares on ...\n",
       "16  #Colorado #Avalanche Men's Official Colorado A...\n",
       "17  Rene Ablaze &amp; Jacinta - Secret 2k13 (Falle...\n",
       "18  All residents asked to 'shelter in place' are ...\n",
       "19  @RedCoatJackpot *As it was typical for them th...\n",
       "20  @TelegraphWorld lets hope it's a upper class w...\n",
       "22  ((OFFICIAL VID)) #DoubleCups &gt;&gt; https://...\n",
       "23                                  London is cool ;)\n",
       "25  @LauradeHolanda I have the Forrest version fro...\n",
       "26  @_itsdanie_ noooo?? I almost drowned you once ...\n",
       "27  Aftershock was the most terrifying best roller...\n",
       "28  **OFFICIAL VID** #TheReal &gt;&gt;&gt; https:/...\n",
       "29  Hunger hits me and I can't function probably w...\n",
       "30  + Nicole Fletcher one of a victim of crashed a...\n",
       "31  Morgan Silver Dollar 1880 S Gem BU DMPL Cameo ...\n",
       "35  Morgan Silver Dollar 1921 P CH Gem Bu PL Blazi...\n",
       "36  13,000 people receive #wildfires evacuation or...\n",
       "37  #RockyFire Update => California Hwy. 20 closed...\n",
       "38  @HopefulBatgirl went down I was beaten and blo...\n",
       "40  RAIN RAIN GO AWAY... A soaker is on the way \\n...\n",
       "43             Forest fire near La Ronge Sask. Canada\n",
       "44  I'm on top of the hill and I can see a fire in...\n",
       "46                             this is ridiculous....\n",
       "47  the pastor was not in the scene of the acciden...\n",
       "49  I didn`t want to hurt you but the fear drove m...\n",
       "53  @bbcmtd Wholesale Markets ablaze http://t.co/l...\n",
       "55                                          Cooool :)\n",
       "56  :StarMade: :Stardate 3: :Planetary Annihilatio...\n",
       "58  @Startide It's hotter there than Phoenix this ...\n",
       "60  Did you miss the #BitCoin explosion - Don't mi...\n",
       "63                                     What's up man?\n",
       "64  Had an awesome time visiting the CFC head offi...\n",
       "65       SOOOO PUMPED FOR ABLAZE ???? @southridgelife\n",
       "67  Noches El-Bestia '@Alexis_Sanchez: happy to se...\n",
       "69  I'm not gonna lie I'm kinda ready to attack my...\n",
       "74  Nepal earthquake 3 months on: Women fear abuse...\n",
       "75  320 [IR] ICEMOON [AFTERSHOCK] | http://t.co/yN...\n",
       "76       @VillicanaAlicia [[Is it Darude Sandstorm?]]\n",
       "77  Marquei como visto Dragon Ball Super - 1x1 - T...\n",
       "78  @lightseraphs pissed at you and could have the...\n",
       "82  #Greece's tax revenues collapse as debt crisis...\n",
       "84                  @a__cee DAEM GIRL SMOOTH ASF c: ?\n",
       "85      am boy @Crash_______  https://t.co/f5Ylp7pfN7\n",
       "91  {:en}Tension In Bayelsa As Patience Jonathan P...\n",
       "93  || So.... I just watched the trailed for The D...\n",
       "94  å¤} New Ladies Shoulder Tote #Handbag Faux Lea...\n",
       "95  #Tb #throwback ??\\n\\n??~ You want a battle? He..."
      ]
     },
     "metadata": {},
     "output_type": "display_data"
    }
   ],
   "source": [
    "# Analysis of punctuation marks repetition in training data\n",
    "print('Statistics for punctuation marks repetition in training data')\n",
    "subtext_repeation_in_df(train_df, 'text', list(string.punctuation), 10)"
   ]
  },
  {
   "cell_type": "code",
   "execution_count": 8,
   "id": "ce42567b",
   "metadata": {
    "execution": {
     "iopub.execute_input": "2022-06-28T13:54:48.299127Z",
     "iopub.status.busy": "2022-06-28T13:54:48.298110Z",
     "iopub.status.idle": "2022-06-28T13:54:48.303996Z",
     "shell.execute_reply": "2022-06-28T13:54:48.303035Z"
    },
    "papermill": {
     "duration": 0.029092,
     "end_time": "2022-06-28T13:54:48.306023",
     "exception": false,
     "start_time": "2022-06-28T13:54:48.276931",
     "status": "completed"
    },
    "tags": []
   },
   "outputs": [],
   "source": [
    "def remove_punctuation(text):\n",
    "    \"\"\"Remove punctuation from list of tokenized words\"\"\"\n",
    "    translator = str.maketrans('', '', string.punctuation)\n",
    "    return text.translate(translator)"
   ]
  },
  {
   "cell_type": "code",
   "execution_count": 9,
   "id": "b1ebaed7",
   "metadata": {
    "execution": {
     "iopub.execute_input": "2022-06-28T13:54:48.345500Z",
     "iopub.status.busy": "2022-06-28T13:54:48.344586Z",
     "iopub.status.idle": "2022-06-28T13:54:48.351476Z",
     "shell.execute_reply": "2022-06-28T13:54:48.350478Z"
    },
    "papermill": {
     "duration": 0.028474,
     "end_time": "2022-06-28T13:54:48.353366",
     "exception": false,
     "start_time": "2022-06-28T13:54:48.324892",
     "status": "completed"
    },
    "tags": []
   },
   "outputs": [
    {
     "data": {
      "text/plain": [
       "'Our Deeds are the Reason of this #earthquake May ALLAH Forgive us all'"
      ]
     },
     "execution_count": 9,
     "metadata": {},
     "output_type": "execute_result"
    }
   ],
   "source": [
    "train_df['text'].iloc[0]"
   ]
  },
  {
   "cell_type": "code",
   "execution_count": 10,
   "id": "095c62bc",
   "metadata": {
    "execution": {
     "iopub.execute_input": "2022-06-28T13:54:48.392107Z",
     "iopub.status.busy": "2022-06-28T13:54:48.391781Z",
     "iopub.status.idle": "2022-06-28T13:54:48.398046Z",
     "shell.execute_reply": "2022-06-28T13:54:48.397082Z"
    },
    "papermill": {
     "duration": 0.028059,
     "end_time": "2022-06-28T13:54:48.399985",
     "exception": false,
     "start_time": "2022-06-28T13:54:48.371926",
     "status": "completed"
    },
    "tags": []
   },
   "outputs": [
    {
     "data": {
      "text/plain": [
       "'Our Deeds are the Reason of this earthquake May ALLAH Forgive us all'"
      ]
     },
     "execution_count": 10,
     "metadata": {},
     "output_type": "execute_result"
    }
   ],
   "source": [
    "remove_punctuation(train_df['text'].iloc[0])"
   ]
  },
  {
   "cell_type": "markdown",
   "id": "a796f213",
   "metadata": {
    "papermill": {
     "duration": 0.017869,
     "end_time": "2022-06-28T13:54:48.436113",
     "exception": false,
     "start_time": "2022-06-28T13:54:48.418244",
     "status": "completed"
    },
    "tags": []
   },
   "source": [
    "* Case normalization"
   ]
  },
  {
   "cell_type": "code",
   "execution_count": 11,
   "id": "81d29c01",
   "metadata": {
    "execution": {
     "iopub.execute_input": "2022-06-28T13:54:48.475662Z",
     "iopub.status.busy": "2022-06-28T13:54:48.474652Z",
     "iopub.status.idle": "2022-06-28T13:54:48.480058Z",
     "shell.execute_reply": "2022-06-28T13:54:48.479076Z"
    },
    "papermill": {
     "duration": 0.027542,
     "end_time": "2022-06-28T13:54:48.482121",
     "exception": false,
     "start_time": "2022-06-28T13:54:48.454579",
     "status": "completed"
    },
    "tags": []
   },
   "outputs": [],
   "source": [
    "def to_lowercase(text):\n",
    "    return text.lower()"
   ]
  },
  {
   "cell_type": "code",
   "execution_count": 12,
   "id": "ab69b808",
   "metadata": {
    "execution": {
     "iopub.execute_input": "2022-06-28T13:54:48.521975Z",
     "iopub.status.busy": "2022-06-28T13:54:48.520981Z",
     "iopub.status.idle": "2022-06-28T13:54:48.528387Z",
     "shell.execute_reply": "2022-06-28T13:54:48.527338Z"
    },
    "papermill": {
     "duration": 0.028992,
     "end_time": "2022-06-28T13:54:48.530520",
     "exception": false,
     "start_time": "2022-06-28T13:54:48.501528",
     "status": "completed"
    },
    "tags": []
   },
   "outputs": [
    {
     "data": {
      "text/plain": [
       "'our deeds are the reason of this earthquake may allah forgive us all'"
      ]
     },
     "execution_count": 12,
     "metadata": {},
     "output_type": "execute_result"
    }
   ],
   "source": [
    "to_lowercase(remove_punctuation(train_df['text'].iloc[0]))"
   ]
  },
  {
   "cell_type": "markdown",
   "id": "35e6d80f",
   "metadata": {
    "papermill": {
     "duration": 0.018851,
     "end_time": "2022-06-28T13:54:48.568705",
     "exception": false,
     "start_time": "2022-06-28T13:54:48.549854",
     "status": "completed"
    },
    "tags": []
   },
   "source": [
    "* Replace all Numbers"
   ]
  },
  {
   "cell_type": "code",
   "execution_count": 13,
   "id": "27047bdf",
   "metadata": {
    "execution": {
     "iopub.execute_input": "2022-06-28T13:54:48.613599Z",
     "iopub.status.busy": "2022-06-28T13:54:48.613182Z",
     "iopub.status.idle": "2022-06-28T13:54:48.618185Z",
     "shell.execute_reply": "2022-06-28T13:54:48.617236Z"
    },
    "papermill": {
     "duration": 0.029444,
     "end_time": "2022-06-28T13:54:48.620355",
     "exception": false,
     "start_time": "2022-06-28T13:54:48.590911",
     "status": "completed"
    },
    "tags": []
   },
   "outputs": [],
   "source": [
    "def replace_numbers(text):\n",
    "    \"\"\"Replace all interger occurrences in list of tokenized words with textual representation\"\"\"\n",
    "    return re.sub(r'\\d+', '', text)"
   ]
  },
  {
   "cell_type": "code",
   "execution_count": 14,
   "id": "e710706a",
   "metadata": {
    "execution": {
     "iopub.execute_input": "2022-06-28T13:54:48.665312Z",
     "iopub.status.busy": "2022-06-28T13:54:48.664450Z",
     "iopub.status.idle": "2022-06-28T13:54:48.671820Z",
     "shell.execute_reply": "2022-06-28T13:54:48.670574Z"
    },
    "papermill": {
     "duration": 0.032293,
     "end_time": "2022-06-28T13:54:48.674232",
     "exception": false,
     "start_time": "2022-06-28T13:54:48.641939",
     "status": "completed"
    },
    "tags": []
   },
   "outputs": [
    {
     "data": {
      "text/plain": [
       "'9 Mile backup on I-77 South...accident blocking the Right 2 Lanes at Exit 31 Langtree Rd...consider NC 115 or NC 150 to NC 16 as alternate'"
      ]
     },
     "execution_count": 14,
     "metadata": {},
     "output_type": "execute_result"
    }
   ],
   "source": [
    "train_df['text'].iloc[95]"
   ]
  },
  {
   "cell_type": "code",
   "execution_count": 15,
   "id": "e5ba120e",
   "metadata": {
    "execution": {
     "iopub.execute_input": "2022-06-28T13:54:48.717414Z",
     "iopub.status.busy": "2022-06-28T13:54:48.716767Z",
     "iopub.status.idle": "2022-06-28T13:54:48.724730Z",
     "shell.execute_reply": "2022-06-28T13:54:48.723590Z"
    },
    "papermill": {
     "duration": 0.032163,
     "end_time": "2022-06-28T13:54:48.727294",
     "exception": false,
     "start_time": "2022-06-28T13:54:48.695131",
     "status": "completed"
    },
    "tags": []
   },
   "outputs": [
    {
     "data": {
      "text/plain": [
       "' mile backup on i southaccident blocking the right  lanes at exit  langtree rdconsider nc  or nc  to nc  as alternate'"
      ]
     },
     "execution_count": 15,
     "metadata": {},
     "output_type": "execute_result"
    }
   ],
   "source": [
    "replace_numbers(to_lowercase(remove_punctuation(train_df['text'].iloc[95])))"
   ]
  },
  {
   "cell_type": "markdown",
   "id": "fc57eca1",
   "metadata": {
    "papermill": {
     "duration": 0.019015,
     "end_time": "2022-06-28T13:54:48.766758",
     "exception": false,
     "start_time": "2022-06-28T13:54:48.747743",
     "status": "completed"
    },
    "tags": []
   },
   "source": [
    "* Words tokenization : create list of words"
   ]
  },
  {
   "cell_type": "code",
   "execution_count": 16,
   "id": "a2545511",
   "metadata": {
    "execution": {
     "iopub.execute_input": "2022-06-28T13:54:48.807357Z",
     "iopub.status.busy": "2022-06-28T13:54:48.806704Z",
     "iopub.status.idle": "2022-06-28T13:54:48.811196Z",
     "shell.execute_reply": "2022-06-28T13:54:48.810240Z"
    },
    "papermill": {
     "duration": 0.027511,
     "end_time": "2022-06-28T13:54:48.813493",
     "exception": false,
     "start_time": "2022-06-28T13:54:48.785982",
     "status": "completed"
    },
    "tags": []
   },
   "outputs": [],
   "source": [
    "def text2words(text):\n",
    "    return word_tokenize(text)"
   ]
  },
  {
   "cell_type": "code",
   "execution_count": 17,
   "id": "18e3b9c8",
   "metadata": {
    "execution": {
     "iopub.execute_input": "2022-06-28T13:54:48.854837Z",
     "iopub.status.busy": "2022-06-28T13:54:48.854010Z",
     "iopub.status.idle": "2022-06-28T13:54:48.871756Z",
     "shell.execute_reply": "2022-06-28T13:54:48.870796Z"
    },
    "papermill": {
     "duration": 0.040215,
     "end_time": "2022-06-28T13:54:48.873782",
     "exception": false,
     "start_time": "2022-06-28T13:54:48.833567",
     "status": "completed"
    },
    "tags": []
   },
   "outputs": [
    {
     "data": {
      "text/plain": [
       "['mile',\n",
       " 'backup',\n",
       " 'on',\n",
       " 'i',\n",
       " 'southaccident',\n",
       " 'blocking',\n",
       " 'the',\n",
       " 'right',\n",
       " 'lanes',\n",
       " 'at',\n",
       " 'exit',\n",
       " 'langtree',\n",
       " 'rdconsider',\n",
       " 'nc',\n",
       " 'or',\n",
       " 'nc',\n",
       " 'to',\n",
       " 'nc',\n",
       " 'as',\n",
       " 'alternate']"
      ]
     },
     "execution_count": 17,
     "metadata": {},
     "output_type": "execute_result"
    }
   ],
   "source": [
    "text2words(replace_numbers(to_lowercase(remove_punctuation(train_df['text'].iloc[95]))))"
   ]
  },
  {
   "cell_type": "markdown",
   "id": "bdfcd0e5",
   "metadata": {
    "papermill": {
     "duration": 0.01873,
     "end_time": "2022-06-28T13:54:48.911615",
     "exception": false,
     "start_time": "2022-06-28T13:54:48.892885",
     "status": "completed"
    },
    "tags": []
   },
   "source": [
    "* Remove Stop words like ( 'the', 'to', 'on', 'we',...etc)"
   ]
  },
  {
   "cell_type": "code",
   "execution_count": 18,
   "id": "9947d778",
   "metadata": {
    "execution": {
     "iopub.execute_input": "2022-06-28T13:54:48.952900Z",
     "iopub.status.busy": "2022-06-28T13:54:48.951655Z",
     "iopub.status.idle": "2022-06-28T13:54:48.958038Z",
     "shell.execute_reply": "2022-06-28T13:54:48.957105Z"
    },
    "papermill": {
     "duration": 0.029425,
     "end_time": "2022-06-28T13:54:48.960276",
     "exception": false,
     "start_time": "2022-06-28T13:54:48.930851",
     "status": "completed"
    },
    "tags": []
   },
   "outputs": [],
   "source": [
    "def remove_stopwords(words, stop_words):\n",
    "    \"\"\"\n",
    "    :param words:\n",
    "    :type words:\n",
    "    :param stop_words: from sklearn.feature_extraction.stop_words import ENGLISH_STOP_WORDS\n",
    "    or\n",
    "    from spacy.lang.en.stop_words import STOP_WORDS\n",
    "    :type stop_words:\n",
    "    :return:\n",
    "    :rtype:\n",
    "    \"\"\"\n",
    "    return [word for word in words if word not in stop_words]"
   ]
  },
  {
   "cell_type": "code",
   "execution_count": 19,
   "id": "cce1d8e9",
   "metadata": {
    "execution": {
     "iopub.execute_input": "2022-06-28T13:54:49.000777Z",
     "iopub.status.busy": "2022-06-28T13:54:48.999846Z",
     "iopub.status.idle": "2022-06-28T13:54:49.008348Z",
     "shell.execute_reply": "2022-06-28T13:54:49.007249Z"
    },
    "papermill": {
     "duration": 0.030574,
     "end_time": "2022-06-28T13:54:49.010372",
     "exception": false,
     "start_time": "2022-06-28T13:54:48.979798",
     "status": "completed"
    },
    "tags": []
   },
   "outputs": [
    {
     "data": {
      "text/plain": [
       "['mile',\n",
       " 'backup',\n",
       " 'southaccident',\n",
       " 'blocking',\n",
       " 'right',\n",
       " 'lanes',\n",
       " 'exit',\n",
       " 'langtree',\n",
       " 'rdconsider',\n",
       " 'nc',\n",
       " 'nc',\n",
       " 'nc',\n",
       " 'alternate']"
      ]
     },
     "execution_count": 19,
     "metadata": {},
     "output_type": "execute_result"
    }
   ],
   "source": [
    "t= text2words(replace_numbers(to_lowercase(remove_punctuation(train_df['text'].iloc[95]))))\n",
    "remove_stopwords( t, stop_words)"
   ]
  },
  {
   "cell_type": "markdown",
   "id": "fe851e91",
   "metadata": {
    "papermill": {
     "duration": 0.019029,
     "end_time": "2022-06-28T13:54:49.049346",
     "exception": false,
     "start_time": "2022-06-28T13:54:49.030317",
     "status": "completed"
    },
    "tags": []
   },
   "source": [
    "* Stemming"
   ]
  },
  {
   "cell_type": "code",
   "execution_count": 20,
   "id": "9faf2f6d",
   "metadata": {
    "execution": {
     "iopub.execute_input": "2022-06-28T13:54:49.089765Z",
     "iopub.status.busy": "2022-06-28T13:54:49.089395Z",
     "iopub.status.idle": "2022-06-28T13:54:49.094570Z",
     "shell.execute_reply": "2022-06-28T13:54:49.093492Z"
    },
    "papermill": {
     "duration": 0.028233,
     "end_time": "2022-06-28T13:54:49.096720",
     "exception": false,
     "start_time": "2022-06-28T13:54:49.068487",
     "status": "completed"
    },
    "tags": []
   },
   "outputs": [],
   "source": [
    "def stem_words(words):\n",
    "    \"\"\"Stem words in text\"\"\"\n",
    "    stemmer = PorterStemmer()\n",
    "    return [stemmer.stem(word) for word in words]"
   ]
  },
  {
   "cell_type": "code",
   "execution_count": 21,
   "id": "890f7b95",
   "metadata": {
    "execution": {
     "iopub.execute_input": "2022-06-28T13:54:49.138260Z",
     "iopub.status.busy": "2022-06-28T13:54:49.137228Z",
     "iopub.status.idle": "2022-06-28T13:54:49.145989Z",
     "shell.execute_reply": "2022-06-28T13:54:49.145018Z"
    },
    "papermill": {
     "duration": 0.031641,
     "end_time": "2022-06-28T13:54:49.147978",
     "exception": false,
     "start_time": "2022-06-28T13:54:49.116337",
     "status": "completed"
    },
    "tags": []
   },
   "outputs": [
    {
     "data": {
      "text/plain": [
       "['mile',\n",
       " 'backup',\n",
       " 'southaccid',\n",
       " 'block',\n",
       " 'right',\n",
       " 'lane',\n",
       " 'exit',\n",
       " 'langtre',\n",
       " 'rdconsid',\n",
       " 'nc',\n",
       " 'nc',\n",
       " 'nc',\n",
       " 'altern']"
      ]
     },
     "execution_count": 21,
     "metadata": {},
     "output_type": "execute_result"
    }
   ],
   "source": [
    "t= remove_stopwords(text2words(replace_numbers(to_lowercase(remove_punctuation(train_df['text'].iloc[95])))),stop_words)\n",
    "stem_words(t)"
   ]
  },
  {
   "cell_type": "markdown",
   "id": "8a95aded",
   "metadata": {
    "papermill": {
     "duration": 0.019805,
     "end_time": "2022-06-28T13:54:49.187937",
     "exception": false,
     "start_time": "2022-06-28T13:54:49.168132",
     "status": "completed"
    },
    "tags": []
   },
   "source": [
    "* Another preprocess : Lemmatizing"
   ]
  },
  {
   "cell_type": "code",
   "execution_count": 22,
   "id": "58322459",
   "metadata": {
    "execution": {
     "iopub.execute_input": "2022-06-28T13:54:49.233934Z",
     "iopub.status.busy": "2022-06-28T13:54:49.233569Z",
     "iopub.status.idle": "2022-06-28T13:54:49.238683Z",
     "shell.execute_reply": "2022-06-28T13:54:49.237734Z"
    },
    "papermill": {
     "duration": 0.029164,
     "end_time": "2022-06-28T13:54:49.240695",
     "exception": false,
     "start_time": "2022-06-28T13:54:49.211531",
     "status": "completed"
    },
    "tags": []
   },
   "outputs": [],
   "source": [
    "def lemmatize_words(words):\n",
    "    \"\"\"Lemmatize words in text\"\"\"\n",
    "\n",
    "    lemmatizer = WordNetLemmatizer()\n",
    "    return [lemmatizer.lemmatize(word) for word in words]"
   ]
  },
  {
   "cell_type": "code",
   "execution_count": 23,
   "id": "e59cdcf0",
   "metadata": {
    "execution": {
     "iopub.execute_input": "2022-06-28T13:54:49.284276Z",
     "iopub.status.busy": "2022-06-28T13:54:49.283924Z",
     "iopub.status.idle": "2022-06-28T13:54:51.374311Z",
     "shell.execute_reply": "2022-06-28T13:54:51.373391Z"
    },
    "papermill": {
     "duration": 2.114835,
     "end_time": "2022-06-28T13:54:51.376619",
     "exception": false,
     "start_time": "2022-06-28T13:54:49.261784",
     "status": "completed"
    },
    "tags": []
   },
   "outputs": [
    {
     "data": {
      "text/plain": [
       "['mile',\n",
       " 'backup',\n",
       " 'southaccident',\n",
       " 'blocking',\n",
       " 'right',\n",
       " 'lane',\n",
       " 'exit',\n",
       " 'langtree',\n",
       " 'rdconsider',\n",
       " 'nc',\n",
       " 'nc',\n",
       " 'nc',\n",
       " 'alternate']"
      ]
     },
     "execution_count": 23,
     "metadata": {},
     "output_type": "execute_result"
    }
   ],
   "source": [
    "t= remove_stopwords(text2words(replace_numbers(to_lowercase(remove_punctuation(train_df['text'].iloc[95])))),stop_words)\n",
    "lemmatize_words(t)"
   ]
  },
  {
   "cell_type": "code",
   "execution_count": 24,
   "id": "4bd0ea0d",
   "metadata": {
    "execution": {
     "iopub.execute_input": "2022-06-28T13:54:51.417755Z",
     "iopub.status.busy": "2022-06-28T13:54:51.417422Z",
     "iopub.status.idle": "2022-06-28T13:54:51.422523Z",
     "shell.execute_reply": "2022-06-28T13:54:51.421507Z"
    },
    "papermill": {
     "duration": 0.028336,
     "end_time": "2022-06-28T13:54:51.424548",
     "exception": false,
     "start_time": "2022-06-28T13:54:51.396212",
     "status": "completed"
    },
    "tags": []
   },
   "outputs": [],
   "source": [
    "def lemmatize_verbs(words):\n",
    "    \"\"\"Lemmatize verbs in text\"\"\"\n",
    "\n",
    "    lemmatizer = WordNetLemmatizer()\n",
    "    return ' '.join([lemmatizer.lemmatize(word, pos='v') for word in words])\n"
   ]
  },
  {
   "cell_type": "markdown",
   "id": "008ca22c",
   "metadata": {
    "papermill": {
     "duration": 0.019448,
     "end_time": "2022-06-28T13:54:51.463642",
     "exception": false,
     "start_time": "2022-06-28T13:54:51.444194",
     "status": "completed"
    },
    "tags": []
   },
   "source": [
    "## Split data "
   ]
  },
  {
   "cell_type": "code",
   "execution_count": 25,
   "id": "703c8f51",
   "metadata": {
    "execution": {
     "iopub.execute_input": "2022-06-28T13:54:51.504151Z",
     "iopub.status.busy": "2022-06-28T13:54:51.503303Z",
     "iopub.status.idle": "2022-06-28T13:54:52.052865Z",
     "shell.execute_reply": "2022-06-28T13:54:52.051784Z"
    },
    "papermill": {
     "duration": 0.572687,
     "end_time": "2022-06-28T13:54:52.055281",
     "exception": false,
     "start_time": "2022-06-28T13:54:51.482594",
     "status": "completed"
    },
    "tags": []
   },
   "outputs": [],
   "source": [
    "train_ds_text = train_df.drop([\"id\",\"keyword\",\"location\"], axis=1)\n",
    "test_ds_text = test_df.drop([\"id\",\"keyword\",\"location\"], axis=1)\n",
    "training_messages = []\n",
    "test_messages = []\n",
    "training_labels = []\n",
    "for index, item in train_ds_text.iterrows():\n",
    "    message, label = item[\"text\"], item[\"target\"]\n",
    "    training_messages.append(str(message))\n",
    "    training_labels.append(label)\n",
    "    \n",
    "    \n",
    "for index, item in test_ds_text.iterrows():\n",
    "    message = item[\"text\"]\n",
    "    test_messages.append(str(message))"
   ]
  },
  {
   "cell_type": "code",
   "execution_count": 26,
   "id": "eb2248b7",
   "metadata": {
    "execution": {
     "iopub.execute_input": "2022-06-28T13:54:52.104404Z",
     "iopub.status.busy": "2022-06-28T13:54:52.103636Z",
     "iopub.status.idle": "2022-06-28T13:54:52.111499Z",
     "shell.execute_reply": "2022-06-28T13:54:52.110414Z"
    },
    "papermill": {
     "duration": 0.037714,
     "end_time": "2022-06-28T13:54:52.113811",
     "exception": false,
     "start_time": "2022-06-28T13:54:52.076097",
     "status": "completed"
    },
    "tags": []
   },
   "outputs": [],
   "source": [
    "def remove_special_chars(text):\n",
    "    re1 = re.compile(r'  +')\n",
    "    x1 = text.lower().replace('#39;', \"'\").replace('amp;', '&').replace('#146;', \"'\").replace(\n",
    "        'nbsp;', ' ').replace('#36;', '$').replace('\\\\n', \"\\n\").replace('quot;', \"'\").replace(\n",
    "        '<br />', \"\\n\").replace('\\\\\"', '\"').replace('<unk>', 'u_n').replace(' @.@ ', '.').replace(\n",
    "        ' @-@ ', '-').replace('\\\\', ' \\\\ ')\n",
    "    return re1.sub(' ', html.unescape(x1))"
   ]
  },
  {
   "cell_type": "markdown",
   "id": "b371eb8e",
   "metadata": {
    "papermill": {
     "duration": 0.021647,
     "end_time": "2022-06-28T13:54:52.156078",
     "exception": false,
     "start_time": "2022-06-28T13:54:52.134431",
     "status": "completed"
    },
    "tags": []
   },
   "source": [
    "## 3. Text preparation"
   ]
  },
  {
   "cell_type": "code",
   "execution_count": 27,
   "id": "c7c774b3",
   "metadata": {
    "execution": {
     "iopub.execute_input": "2022-06-28T13:54:52.200312Z",
     "iopub.status.busy": "2022-06-28T13:54:52.199944Z",
     "iopub.status.idle": "2022-06-28T13:54:52.206697Z",
     "shell.execute_reply": "2022-06-28T13:54:52.205688Z"
    },
    "papermill": {
     "duration": 0.031877,
     "end_time": "2022-06-28T13:54:52.208873",
     "exception": false,
     "start_time": "2022-06-28T13:54:52.176996",
     "status": "completed"
    },
    "tags": []
   },
   "outputs": [],
   "source": [
    "def normalize_text( text):\n",
    "    text = remove_special_chars(text)\n",
    "    text = remove_punctuation(text)\n",
    "    text = to_lowercase(text)\n",
    "    text = replace_numbers(text)\n",
    "    words = text2words(text)\n",
    "    words = remove_stopwords(words, stop_words)\n",
    "    #words = stem_words(words)# Either stem ovocar lemmatize\n",
    "    words = lemmatize_words(words)\n",
    "    words = lemmatize_verbs(words)\n",
    "    \n",
    "\n",
    "    return ''.join(words)\n",
    "\n",
    "def normalize_corpus(corpus):\n",
    "    return [normalize_text(t) for t in corpus]"
   ]
  },
  {
   "cell_type": "code",
   "execution_count": 28,
   "id": "b71f7b31",
   "metadata": {
    "execution": {
     "iopub.execute_input": "2022-06-28T13:54:52.252868Z",
     "iopub.status.busy": "2022-06-28T13:54:52.252120Z",
     "iopub.status.idle": "2022-06-28T13:54:56.119767Z",
     "shell.execute_reply": "2022-06-28T13:54:56.118623Z"
    },
    "papermill": {
     "duration": 3.893011,
     "end_time": "2022-06-28T13:54:56.122725",
     "exception": false,
     "start_time": "2022-06-28T13:54:52.229714",
     "status": "completed"
    },
    "tags": []
   },
   "outputs": [],
   "source": [
    "trn_texts = normalize_corpus(training_messages)\n",
    "tst_texts = normalize_corpus(test_messages)"
   ]
  },
  {
   "cell_type": "markdown",
   "id": "071269bf",
   "metadata": {
    "papermill": {
     "duration": 0.021909,
     "end_time": "2022-06-28T13:54:56.166587",
     "exception": false,
     "start_time": "2022-06-28T13:54:56.144678",
     "status": "completed"
    },
    "tags": []
   },
   "source": [
    "### * BoW (Binary features)"
   ]
  },
  {
   "cell_type": "code",
   "execution_count": 29,
   "id": "58ae61a2",
   "metadata": {
    "execution": {
     "iopub.execute_input": "2022-06-28T13:54:56.212154Z",
     "iopub.status.busy": "2022-06-28T13:54:56.211761Z",
     "iopub.status.idle": "2022-06-28T13:54:56.748355Z",
     "shell.execute_reply": "2022-06-28T13:54:56.746936Z"
    },
    "papermill": {
     "duration": 0.562422,
     "end_time": "2022-06-28T13:54:56.751052",
     "exception": false,
     "start_time": "2022-06-28T13:54:56.188630",
     "status": "completed"
    },
    "tags": []
   },
   "outputs": [],
   "source": [
    "tok = Tokenizer(num_words=1000, oov_token='UNK')\n",
    "#tok = Tokenizer(oov_token='UNK')\n",
    "tok.fit_on_texts(trn_texts + tst_texts)\n",
    "# Extract binary BoW features\n",
    "x_train = tok.texts_to_matrix(trn_texts, mode='binary')\n",
    "x_test = tok.texts_to_matrix(tst_texts, mode='binary')"
   ]
  },
  {
   "cell_type": "code",
   "execution_count": 30,
   "id": "cb1554c3",
   "metadata": {
    "execution": {
     "iopub.execute_input": "2022-06-28T13:54:56.794338Z",
     "iopub.status.busy": "2022-06-28T13:54:56.793979Z",
     "iopub.status.idle": "2022-06-28T13:54:56.799625Z",
     "shell.execute_reply": "2022-06-28T13:54:56.798662Z"
    },
    "papermill": {
     "duration": 0.029652,
     "end_time": "2022-06-28T13:54:56.801623",
     "exception": false,
     "start_time": "2022-06-28T13:54:56.771971",
     "status": "completed"
    },
    "tags": []
   },
   "outputs": [],
   "source": [
    "y_train = np.asarray(training_labels).astype('float32')"
   ]
  },
  {
   "cell_type": "code",
   "execution_count": 31,
   "id": "12f585f3",
   "metadata": {
    "execution": {
     "iopub.execute_input": "2022-06-28T13:54:56.844954Z",
     "iopub.status.busy": "2022-06-28T13:54:56.843885Z",
     "iopub.status.idle": "2022-06-28T13:54:56.851002Z",
     "shell.execute_reply": "2022-06-28T13:54:56.849413Z"
    },
    "papermill": {
     "duration": 0.032468,
     "end_time": "2022-06-28T13:54:56.854019",
     "exception": false,
     "start_time": "2022-06-28T13:54:56.821551",
     "status": "completed"
    },
    "tags": []
   },
   "outputs": [
    {
     "name": "stdout",
     "output_type": "stream",
     "text": [
      "(7613, 1000)\n",
      "(7613,)\n",
      "(3263, 1000)\n"
     ]
    }
   ],
   "source": [
    "print(x_train.shape)\n",
    "print(y_train.shape)\n",
    "print(x_test.shape)"
   ]
  },
  {
   "cell_type": "markdown",
   "id": "8a7fe149",
   "metadata": {
    "papermill": {
     "duration": 0.020313,
     "end_time": "2022-06-28T13:54:56.895061",
     "exception": false,
     "start_time": "2022-06-28T13:54:56.874748",
     "status": "completed"
    },
    "tags": []
   },
   "source": [
    "## 4.Bulid Model"
   ]
  },
  {
   "cell_type": "code",
   "execution_count": 32,
   "id": "f80323cd",
   "metadata": {
    "execution": {
     "iopub.execute_input": "2022-06-28T13:54:56.937889Z",
     "iopub.status.busy": "2022-06-28T13:54:56.936864Z",
     "iopub.status.idle": "2022-06-28T13:55:04.312111Z",
     "shell.execute_reply": "2022-06-28T13:55:04.310949Z"
    },
    "papermill": {
     "duration": 7.399498,
     "end_time": "2022-06-28T13:55:04.315038",
     "exception": false,
     "start_time": "2022-06-28T13:54:56.915540",
     "status": "completed"
    },
    "tags": []
   },
   "outputs": [
    {
     "name": "stderr",
     "output_type": "stream",
     "text": [
      "2022-06-28 13:54:57.048557: I tensorflow/stream_executor/cuda/cuda_gpu_executor.cc:937] successful NUMA node read from SysFS had negative value (-1), but there must be at least one NUMA node, so returning NUMA node zero\n",
      "2022-06-28 13:54:57.169786: I tensorflow/stream_executor/cuda/cuda_gpu_executor.cc:937] successful NUMA node read from SysFS had negative value (-1), but there must be at least one NUMA node, so returning NUMA node zero\n",
      "2022-06-28 13:54:57.170627: I tensorflow/stream_executor/cuda/cuda_gpu_executor.cc:937] successful NUMA node read from SysFS had negative value (-1), but there must be at least one NUMA node, so returning NUMA node zero\n",
      "2022-06-28 13:54:57.171917: I tensorflow/core/platform/cpu_feature_guard.cc:142] This TensorFlow binary is optimized with oneAPI Deep Neural Network Library (oneDNN) to use the following CPU instructions in performance-critical operations:  AVX2 AVX512F FMA\n",
      "To enable them in other operations, rebuild TensorFlow with the appropriate compiler flags.\n",
      "2022-06-28 13:54:57.172289: I tensorflow/stream_executor/cuda/cuda_gpu_executor.cc:937] successful NUMA node read from SysFS had negative value (-1), but there must be at least one NUMA node, so returning NUMA node zero\n",
      "2022-06-28 13:54:57.173228: I tensorflow/stream_executor/cuda/cuda_gpu_executor.cc:937] successful NUMA node read from SysFS had negative value (-1), but there must be at least one NUMA node, so returning NUMA node zero\n",
      "2022-06-28 13:54:57.174135: I tensorflow/stream_executor/cuda/cuda_gpu_executor.cc:937] successful NUMA node read from SysFS had negative value (-1), but there must be at least one NUMA node, so returning NUMA node zero\n",
      "2022-06-28 13:54:59.949289: I tensorflow/stream_executor/cuda/cuda_gpu_executor.cc:937] successful NUMA node read from SysFS had negative value (-1), but there must be at least one NUMA node, so returning NUMA node zero\n",
      "2022-06-28 13:54:59.950147: I tensorflow/stream_executor/cuda/cuda_gpu_executor.cc:937] successful NUMA node read from SysFS had negative value (-1), but there must be at least one NUMA node, so returning NUMA node zero\n",
      "2022-06-28 13:54:59.950900: I tensorflow/stream_executor/cuda/cuda_gpu_executor.cc:937] successful NUMA node read from SysFS had negative value (-1), but there must be at least one NUMA node, so returning NUMA node zero\n",
      "2022-06-28 13:54:59.951513: I tensorflow/core/common_runtime/gpu/gpu_device.cc:1510] Created device /job:localhost/replica:0/task:0/device:GPU:0 with 15403 MB memory:  -> device: 0, name: Tesla P100-PCIE-16GB, pci bus id: 0000:00:04.0, compute capability: 6.0\n",
      "/opt/conda/lib/python3.7/site-packages/keras/optimizer_v2/optimizer_v2.py:356: UserWarning: The `lr` argument is deprecated, use `learning_rate` instead.\n",
      "  \"The `lr` argument is deprecated, use `learning_rate` instead.\")\n",
      "2022-06-28 13:55:00.517214: I tensorflow/compiler/mlir/mlir_graph_optimization_pass.cc:185] None of the MLIR Optimization Passes are enabled (registered 2)\n"
     ]
    },
    {
     "name": "stdout",
     "output_type": "stream",
     "text": [
      "Epoch 1/20\n",
      "13/13 [==============================] - 2s 18ms/step - loss: 0.6742 - binary_accuracy: 0.5572 - val_loss: 0.6286 - val_binary_accuracy: 0.6990\n",
      "Epoch 2/20\n",
      "13/13 [==============================] - 0s 6ms/step - loss: 0.6302 - binary_accuracy: 0.6449 - val_loss: 0.5852 - val_binary_accuracy: 0.7730\n",
      "Epoch 3/20\n",
      "13/13 [==============================] - 0s 6ms/step - loss: 0.5817 - binary_accuracy: 0.7472 - val_loss: 0.5486 - val_binary_accuracy: 0.8070\n",
      "Epoch 4/20\n",
      "13/13 [==============================] - 0s 6ms/step - loss: 0.5360 - binary_accuracy: 0.7945 - val_loss: 0.5205 - val_binary_accuracy: 0.8120\n",
      "Epoch 5/20\n",
      "13/13 [==============================] - 0s 6ms/step - loss: 0.4949 - binary_accuracy: 0.8149 - val_loss: 0.5034 - val_binary_accuracy: 0.8120\n",
      "Epoch 6/20\n",
      "13/13 [==============================] - 0s 6ms/step - loss: 0.4585 - binary_accuracy: 0.8216 - val_loss: 0.5051 - val_binary_accuracy: 0.7750\n",
      "Epoch 7/20\n",
      "13/13 [==============================] - 0s 6ms/step - loss: 0.4276 - binary_accuracy: 0.8311 - val_loss: 0.5027 - val_binary_accuracy: 0.7660\n",
      "Epoch 8/20\n",
      "13/13 [==============================] - 0s 6ms/step - loss: 0.4024 - binary_accuracy: 0.8364 - val_loss: 0.4902 - val_binary_accuracy: 0.7770\n",
      "Epoch 9/20\n",
      "13/13 [==============================] - 0s 7ms/step - loss: 0.3819 - binary_accuracy: 0.8444 - val_loss: 0.4971 - val_binary_accuracy: 0.7770\n",
      "Epoch 10/20\n",
      "13/13 [==============================] - 0s 6ms/step - loss: 0.3653 - binary_accuracy: 0.8488 - val_loss: 0.5068 - val_binary_accuracy: 0.7640\n",
      "Epoch 11/20\n",
      "13/13 [==============================] - 0s 6ms/step - loss: 0.3517 - binary_accuracy: 0.8535 - val_loss: 0.5127 - val_binary_accuracy: 0.7630\n",
      "Epoch 12/20\n",
      "13/13 [==============================] - 0s 6ms/step - loss: 0.3396 - binary_accuracy: 0.8595 - val_loss: 0.5193 - val_binary_accuracy: 0.7580\n",
      "Epoch 13/20\n",
      "13/13 [==============================] - 0s 6ms/step - loss: 0.3288 - binary_accuracy: 0.8625 - val_loss: 0.5248 - val_binary_accuracy: 0.7680\n",
      "Epoch 14/20\n",
      "13/13 [==============================] - 0s 6ms/step - loss: 0.3192 - binary_accuracy: 0.8683 - val_loss: 0.5399 - val_binary_accuracy: 0.7590\n",
      "Epoch 15/20\n",
      "13/13 [==============================] - 0s 6ms/step - loss: 0.3104 - binary_accuracy: 0.8715 - val_loss: 0.5492 - val_binary_accuracy: 0.7590\n",
      "Epoch 16/20\n",
      "13/13 [==============================] - 0s 6ms/step - loss: 0.3009 - binary_accuracy: 0.8771 - val_loss: 0.5539 - val_binary_accuracy: 0.7680\n",
      "Epoch 17/20\n",
      "13/13 [==============================] - 0s 7ms/step - loss: 0.2930 - binary_accuracy: 0.8813 - val_loss: 0.5639 - val_binary_accuracy: 0.7670\n",
      "Epoch 18/20\n",
      "13/13 [==============================] - 0s 6ms/step - loss: 0.2847 - binary_accuracy: 0.8839 - val_loss: 0.5696 - val_binary_accuracy: 0.7690\n",
      "Epoch 19/20\n",
      "13/13 [==============================] - 0s 5ms/step - loss: 0.2765 - binary_accuracy: 0.8875 - val_loss: 0.5892 - val_binary_accuracy: 0.7620\n",
      "Epoch 20/20\n",
      "13/13 [==============================] - 0s 5ms/step - loss: 0.2685 - binary_accuracy: 0.8938 - val_loss: 0.5957 - val_binary_accuracy: 0.7690\n"
     ]
    }
   ],
   "source": [
    "x_val = x_train[:1000]\n",
    "partial_x_train = x_train[1000:]\n",
    "\n",
    "y_val = y_train[:1000]\n",
    "partial_y_train = y_train[1000:]\n",
    "\n",
    "model = models.Sequential()\n",
    "model.add(layers.Dense(16, activation='relu', input_shape=(1000,)))\n",
    "model.add(layers.Dense(16, activation='relu'))\n",
    "model.add(layers.Dense(16, activation='relu'))\n",
    "model.add(layers.Dense(1, activation='sigmoid'))\n",
    "\n",
    "model.compile(optimizer=optimizers.RMSprop(lr=0.001),\n",
    "              loss=losses.binary_crossentropy,\n",
    "              metrics=[metrics.binary_accuracy])\n",
    "\n",
    "history = model.fit(partial_x_train,\n",
    "                    partial_y_train,\n",
    "                    epochs=20,\n",
    "                    batch_size=512,\n",
    "                    validation_data=(x_val, y_val))"
   ]
  },
  {
   "cell_type": "code",
   "execution_count": 33,
   "id": "7cb97215",
   "metadata": {
    "execution": {
     "iopub.execute_input": "2022-06-28T13:55:04.362702Z",
     "iopub.status.busy": "2022-06-28T13:55:04.362146Z",
     "iopub.status.idle": "2022-06-28T13:55:04.612318Z",
     "shell.execute_reply": "2022-06-28T13:55:04.611402Z"
    },
    "papermill": {
     "duration": 0.276038,
     "end_time": "2022-06-28T13:55:04.614436",
     "exception": false,
     "start_time": "2022-06-28T13:55:04.338398",
     "status": "completed"
    },
    "tags": []
   },
   "outputs": [
    {
     "data": {
      "image/png": "[encoded data removed]",
      "text/plain": [
       "<Figure size 432x288 with 1 Axes>"
      ]
     },
     "metadata": {
      "needs_background": "light"
     },
     "output_type": "display_data"
    }
   ],
   "source": [
    "acc = history.history['binary_accuracy']\n",
    "val_acc = history.history['val_binary_accuracy']\n",
    "loss = history.history['loss']\n",
    "val_loss = history.history['val_loss']\n",
    "\n",
    "epochs = range(1, len(acc) + 1)\n",
    "\n",
    "# \"bo\" is for \"blue dot\"\n",
    "plt.plot(epochs, loss, 'bo', label='Training loss')\n",
    "# b is for \"solid blue line\"\n",
    "plt.plot(epochs, val_loss, 'b', label='Validation loss')\n",
    "plt.title('Training and validation loss')\n",
    "plt.xlabel('Epochs')\n",
    "plt.ylabel('Loss')\n",
    "plt.legend()\n",
    "\n",
    "plt.show()"
   ]
  },
  {
   "cell_type": "code",
   "execution_count": 34,
   "id": "8c11fdf2",
   "metadata": {
    "execution": {
     "iopub.execute_input": "2022-06-28T13:55:04.662708Z",
     "iopub.status.busy": "2022-06-28T13:55:04.662364Z",
     "iopub.status.idle": "2022-06-28T13:55:04.880641Z",
     "shell.execute_reply": "2022-06-28T13:55:04.879469Z"
    },
    "papermill": {
     "duration": 0.245143,
     "end_time": "2022-06-28T13:55:04.883138",
     "exception": false,
     "start_time": "2022-06-28T13:55:04.637995",
     "status": "completed"
    },
    "tags": []
   },
   "outputs": [
    {
     "data": {
      "image/png": "[encoded data removed]",
      "text/plain": [
       "<Figure size 432x288 with 1 Axes>"
      ]
     },
     "metadata": {
      "needs_background": "light"
     },
     "output_type": "display_data"
    }
   ],
   "source": [
    "\n",
    "\n",
    "plt.plot(epochs, acc, 'bo', label='Training acc')\n",
    "plt.plot(epochs, val_acc, 'b', label='Validation acc')\n",
    "plt.title('Training and validation accuracy')\n",
    "plt.xlabel('Epochs')\n",
    "plt.ylabel('accuracy')\n",
    "plt.legend()\n",
    "\n",
    "plt.show()"
   ]
  },
  {
   "cell_type": "markdown",
   "id": "c2796b10",
   "metadata": {
    "papermill": {
     "duration": 0.025185,
     "end_time": "2022-06-28T13:55:04.934216",
     "exception": false,
     "start_time": "2022-06-28T13:55:04.909031",
     "status": "completed"
    },
    "tags": []
   },
   "source": [
    "## Preparing Submission File"
   ]
  },
  {
   "cell_type": "code",
   "execution_count": 35,
   "id": "4d624645",
   "metadata": {
    "execution": {
     "iopub.execute_input": "2022-06-28T13:55:04.987325Z",
     "iopub.status.busy": "2022-06-28T13:55:04.986225Z",
     "iopub.status.idle": "2022-06-28T13:55:04.991989Z",
     "shell.execute_reply": "2022-06-28T13:55:04.990912Z"
    },
    "papermill": {
     "duration": 0.034867,
     "end_time": "2022-06-28T13:55:04.994208",
     "exception": false,
     "start_time": "2022-06-28T13:55:04.959341",
     "status": "completed"
    },
    "tags": []
   },
   "outputs": [],
   "source": [
    "# model = models.Sequential()\n",
    "# model.add(layers.Dense(16, activation='relu', input_shape=(1000,)))\n",
    "# model.add(layers.Dense(16, activation='relu'))\n",
    "# model.add(layers.Dense(16, activation='relu'))\n",
    "# model.add(layers.Dense(1, activation='sigmoid'))\n",
    "\n",
    "# model.compile(optimizer=optimizers.RMSprop(lr=0.001),\n",
    "#               loss=losses.binary_crossentropy,\n",
    "#               metrics=[metrics.binary_accuracy])\n",
    "\n",
    "# model.fit(partial_x_train,\n",
    "#                     partial_y_train,\n",
    "#                     epochs=4,\n",
    "#                     batch_size=512,\n",
    "#                     validation_data=(x_val, y_val))"
   ]
  },
  {
   "cell_type": "code",
   "execution_count": 36,
   "id": "e85fbe38",
   "metadata": {
    "execution": {
     "iopub.execute_input": "2022-06-28T13:55:05.044940Z",
     "iopub.status.busy": "2022-06-28T13:55:05.044532Z",
     "iopub.status.idle": "2022-06-28T13:55:05.050125Z",
     "shell.execute_reply": "2022-06-28T13:55:05.049176Z"
    },
    "papermill": {
     "duration": 0.033078,
     "end_time": "2022-06-28T13:55:05.052253",
     "exception": false,
     "start_time": "2022-06-28T13:55:05.019175",
     "status": "completed"
    },
    "tags": []
   },
   "outputs": [],
   "source": [
    "# result = model.predict(x_test)"
   ]
  },
  {
   "cell_type": "code",
   "execution_count": 37,
   "id": "04a42415",
   "metadata": {
    "execution": {
     "iopub.execute_input": "2022-06-28T13:55:05.101924Z",
     "iopub.status.busy": "2022-06-28T13:55:05.101560Z",
     "iopub.status.idle": "2022-06-28T13:55:05.106082Z",
     "shell.execute_reply": "2022-06-28T13:55:05.105033Z"
    },
    "papermill": {
     "duration": 0.031913,
     "end_time": "2022-06-28T13:55:05.108865",
     "exception": false,
     "start_time": "2022-06-28T13:55:05.076952",
     "status": "completed"
    },
    "tags": []
   },
   "outputs": [],
   "source": [
    "# result"
   ]
  },
  {
   "cell_type": "code",
   "execution_count": 38,
   "id": "0120fe7d",
   "metadata": {
    "execution": {
     "iopub.execute_input": "2022-06-28T13:55:05.159735Z",
     "iopub.status.busy": "2022-06-28T13:55:05.159360Z",
     "iopub.status.idle": "2022-06-28T13:55:05.164163Z",
     "shell.execute_reply": "2022-06-28T13:55:05.163054Z"
    },
    "papermill": {
     "duration": 0.033131,
     "end_time": "2022-06-28T13:55:05.166878",
     "exception": false,
     "start_time": "2022-06-28T13:55:05.133747",
     "status": "completed"
    },
    "tags": []
   },
   "outputs": [],
   "source": [
    "# result[result>=0.5]=1\n",
    "# result[result<0.5]=0"
   ]
  },
  {
   "cell_type": "code",
   "execution_count": 39,
   "id": "66254c48",
   "metadata": {
    "execution": {
     "iopub.execute_input": "2022-06-28T13:55:05.219562Z",
     "iopub.status.busy": "2022-06-28T13:55:05.219147Z",
     "iopub.status.idle": "2022-06-28T13:55:05.224037Z",
     "shell.execute_reply": "2022-06-28T13:55:05.222827Z"
    },
    "papermill": {
     "duration": 0.035024,
     "end_time": "2022-06-28T13:55:05.227026",
     "exception": false,
     "start_time": "2022-06-28T13:55:05.192002",
     "status": "completed"
    },
    "tags": []
   },
   "outputs": [],
   "source": [
    "# result"
   ]
  },
  {
   "cell_type": "code",
   "execution_count": 40,
   "id": "95e8d0c5",
   "metadata": {
    "execution": {
     "iopub.execute_input": "2022-06-28T13:55:05.280410Z",
     "iopub.status.busy": "2022-06-28T13:55:05.280034Z",
     "iopub.status.idle": "2022-06-28T13:55:05.284842Z",
     "shell.execute_reply": "2022-06-28T13:55:05.283681Z"
    },
    "papermill": {
     "duration": 0.034905,
     "end_time": "2022-06-28T13:55:05.287727",
     "exception": false,
     "start_time": "2022-06-28T13:55:05.252822",
     "status": "completed"
    },
    "tags": []
   },
   "outputs": [],
   "source": [
    "# sample_submission=pd.read_csv('../input/nlp-getting-started/sample_submission.csv')\n",
    "# sample_submission['target']=result\n",
    "# sample_submission['target']=sample_submission['target'].astype(int)"
   ]
  },
  {
   "cell_type": "code",
   "execution_count": 41,
   "id": "a80249d8",
   "metadata": {
    "execution": {
     "iopub.execute_input": "2022-06-28T13:55:05.339205Z",
     "iopub.status.busy": "2022-06-28T13:55:05.338826Z",
     "iopub.status.idle": "2022-06-28T13:55:05.344161Z",
     "shell.execute_reply": "2022-06-28T13:55:05.343146Z"
    },
    "papermill": {
     "duration": 0.03365,
     "end_time": "2022-06-28T13:55:05.346255",
     "exception": false,
     "start_time": "2022-06-28T13:55:05.312605",
     "status": "completed"
    },
    "tags": []
   },
   "outputs": [],
   "source": [
    "#sample_submission.head()\n",
    "# sample_submission.to_csv('submission.csv', index=False)"
   ]
  },
  {
   "cell_type": "code",
   "execution_count": 42,
   "id": "068b49e2",
   "metadata": {
    "execution": {
     "iopub.execute_input": "2022-06-28T13:55:05.400215Z",
     "iopub.status.busy": "2022-06-28T13:55:05.399849Z",
     "iopub.status.idle": "2022-06-28T13:55:08.282702Z",
     "shell.execute_reply": "2022-06-28T13:55:08.281491Z"
    },
    "papermill": {
     "duration": 2.912863,
     "end_time": "2022-06-28T13:55:08.285589",
     "exception": false,
     "start_time": "2022-06-28T13:55:05.372726",
     "status": "completed"
    },
    "tags": []
   },
   "outputs": [
    {
     "name": "stdout",
     "output_type": "stream",
     "text": [
      "Epoch 1/20\n",
      "13/13 [==============================] - 1s 16ms/step - loss: 0.6802 - binary_accuracy: 0.5622 - val_loss: 0.6385 - val_binary_accuracy: 0.7080\n",
      "Epoch 2/20\n",
      "13/13 [==============================] - 0s 6ms/step - loss: 0.6501 - binary_accuracy: 0.6262 - val_loss: 0.6104 - val_binary_accuracy: 0.7410\n",
      "Epoch 3/20\n",
      "13/13 [==============================] - 0s 6ms/step - loss: 0.6122 - binary_accuracy: 0.7157 - val_loss: 0.5786 - val_binary_accuracy: 0.7660\n",
      "Epoch 4/20\n",
      "13/13 [==============================] - 0s 6ms/step - loss: 0.5696 - binary_accuracy: 0.7688 - val_loss: 0.5489 - val_binary_accuracy: 0.7720\n",
      "Epoch 5/20\n",
      "13/13 [==============================] - 0s 6ms/step - loss: 0.5272 - binary_accuracy: 0.7983 - val_loss: 0.5291 - val_binary_accuracy: 0.7930\n",
      "Epoch 6/20\n",
      "13/13 [==============================] - 0s 7ms/step - loss: 0.4879 - binary_accuracy: 0.8167 - val_loss: 0.5180 - val_binary_accuracy: 0.7930\n",
      "Epoch 7/20\n",
      "13/13 [==============================] - 0s 7ms/step - loss: 0.4551 - binary_accuracy: 0.8225 - val_loss: 0.5010 - val_binary_accuracy: 0.8010\n",
      "Epoch 8/20\n",
      "13/13 [==============================] - 0s 5ms/step - loss: 0.4299 - binary_accuracy: 0.8284 - val_loss: 0.4986 - val_binary_accuracy: 0.7870\n",
      "Epoch 9/20\n",
      "13/13 [==============================] - 0s 5ms/step - loss: 0.4096 - binary_accuracy: 0.8320 - val_loss: 0.5023 - val_binary_accuracy: 0.7800\n",
      "Epoch 10/20\n",
      "13/13 [==============================] - 0s 5ms/step - loss: 0.3946 - binary_accuracy: 0.8349 - val_loss: 0.4977 - val_binary_accuracy: 0.7880\n",
      "Epoch 11/20\n",
      "13/13 [==============================] - 0s 7ms/step - loss: 0.3821 - binary_accuracy: 0.8376 - val_loss: 0.4997 - val_binary_accuracy: 0.7860\n",
      "Epoch 12/20\n",
      "13/13 [==============================] - 0s 5ms/step - loss: 0.3711 - binary_accuracy: 0.8397 - val_loss: 0.5036 - val_binary_accuracy: 0.7870\n",
      "Epoch 13/20\n",
      "13/13 [==============================] - 0s 5ms/step - loss: 0.3647 - binary_accuracy: 0.8409 - val_loss: 0.5171 - val_binary_accuracy: 0.7740\n",
      "Epoch 14/20\n",
      "13/13 [==============================] - 0s 5ms/step - loss: 0.3547 - binary_accuracy: 0.8479 - val_loss: 0.5236 - val_binary_accuracy: 0.7750\n",
      "Epoch 15/20\n",
      "13/13 [==============================] - 0s 5ms/step - loss: 0.3476 - binary_accuracy: 0.8512 - val_loss: 0.5439 - val_binary_accuracy: 0.7500\n",
      "Epoch 16/20\n",
      "13/13 [==============================] - 0s 5ms/step - loss: 0.3408 - binary_accuracy: 0.8535 - val_loss: 0.5450 - val_binary_accuracy: 0.7550\n",
      "Epoch 17/20\n",
      "13/13 [==============================] - 0s 5ms/step - loss: 0.3336 - binary_accuracy: 0.8566 - val_loss: 0.5412 - val_binary_accuracy: 0.7710\n",
      "Epoch 18/20\n",
      "13/13 [==============================] - 0s 5ms/step - loss: 0.3272 - binary_accuracy: 0.8589 - val_loss: 0.5447 - val_binary_accuracy: 0.7740\n",
      "Epoch 19/20\n",
      "13/13 [==============================] - 0s 5ms/step - loss: 0.3215 - binary_accuracy: 0.8662 - val_loss: 0.5650 - val_binary_accuracy: 0.7580\n",
      "Epoch 20/20\n",
      "13/13 [==============================] - 0s 5ms/step - loss: 0.3139 - binary_accuracy: 0.8656 - val_loss: 0.5601 - val_binary_accuracy: 0.7750\n"
     ]
    }
   ],
   "source": [
    "### using count\n",
    "x_train = tok.texts_to_matrix(trn_texts, mode='count')\n",
    "x_test = tok.texts_to_matrix(tst_texts, mode='count')\n",
    "\n",
    "x_val = x_train[:1000]\n",
    "partial_x_train = x_train[1000:]\n",
    "\n",
    "y_val = y_train[:1000]\n",
    "partial_y_train = y_train[1000:]\n",
    "\n",
    "model = models.Sequential()\n",
    "model.add(layers.Dense(16, activation='relu', input_shape=(1000,)))\n",
    "model.add(layers.Dense(16, activation='relu'))\n",
    "model.add(layers.Dense(16, activation='relu'))\n",
    "model.add(layers.Dense(1, activation='sigmoid'))\n",
    "\n",
    "model.compile(optimizer=optimizers.RMSprop(lr=0.001),\n",
    "              loss=losses.binary_crossentropy,\n",
    "              metrics=[metrics.binary_accuracy])\n",
    "\n",
    "history = model.fit(partial_x_train,\n",
    "                    partial_y_train,\n",
    "                    epochs=20,\n",
    "                    batch_size=512,\n",
    "                    validation_data=(x_val, y_val))"
   ]
  },
  {
   "cell_type": "code",
   "execution_count": 43,
   "id": "00c799af",
   "metadata": {
    "execution": {
     "iopub.execute_input": "2022-06-28T13:55:08.342262Z",
     "iopub.status.busy": "2022-06-28T13:55:08.341903Z",
     "iopub.status.idle": "2022-06-28T13:55:08.575645Z",
     "shell.execute_reply": "2022-06-28T13:55:08.574461Z"
    },
    "papermill": {
     "duration": 0.264872,
     "end_time": "2022-06-28T13:55:08.578042",
     "exception": false,
     "start_time": "2022-06-28T13:55:08.313170",
     "status": "completed"
    },
    "tags": []
   },
   "outputs": [
    {
     "data": {
      "image/png": "[encoded data removed]",
      "text/plain": [
       "<Figure size 432x288 with 1 Axes>"
      ]
     },
     "metadata": {
      "needs_background": "light"
     },
     "output_type": "display_data"
    }
   ],
   "source": [
    "acc = history.history['binary_accuracy']\n",
    "val_acc = history.history['val_binary_accuracy']\n",
    "loss = history.history['loss']\n",
    "val_loss = history.history['val_loss']\n",
    "\n",
    "epochs = range(1, len(acc) + 1)\n",
    "\n",
    "# \"bo\" is for \"blue dot\"\n",
    "plt.plot(epochs, loss, 'bo', label='Training loss')\n",
    "# b is for \"solid blue line\"\n",
    "plt.plot(epochs, val_loss, 'b', label='Validation loss')\n",
    "plt.title('Training and validation loss')\n",
    "plt.xlabel('Epochs')\n",
    "plt.ylabel('Loss')\n",
    "plt.legend()\n",
    "\n",
    "plt.show()"
   ]
  },
  {
   "cell_type": "code",
   "execution_count": 44,
   "id": "31332f66",
   "metadata": {
    "execution": {
     "iopub.execute_input": "2022-06-28T13:55:08.635951Z",
     "iopub.status.busy": "2022-06-28T13:55:08.635155Z",
     "iopub.status.idle": "2022-06-28T13:55:08.950591Z",
     "shell.execute_reply": "2022-06-28T13:55:08.949475Z"
    },
    "papermill": {
     "duration": 0.347897,
     "end_time": "2022-06-28T13:55:08.954031",
     "exception": false,
     "start_time": "2022-06-28T13:55:08.606134",
     "status": "completed"
    },
    "tags": []
   },
   "outputs": [
    {
     "data": {
      "image/png": "[encoded data removed]",
      "text/plain": [
       "<Figure size 432x288 with 1 Axes>"
      ]
     },
     "metadata": {
      "needs_background": "light"
     },
     "output_type": "display_data"
    }
   ],
   "source": [
    "\n",
    "\n",
    "plt.plot(epochs, acc, 'bo', label='Training acc')\n",
    "plt.plot(epochs, val_acc, 'b', label='Validation acc')\n",
    "plt.title('Training and validation accuracy')\n",
    "plt.xlabel('Epochs')\n",
    "plt.ylabel('accuracy')\n",
    "plt.legend()\n",
    "plt.grid()\n",
    "plt.show()"
   ]
  },
  {
   "cell_type": "markdown",
   "id": "ab155c97",
   "metadata": {
    "papermill": {
     "duration": 0.043533,
     "end_time": "2022-06-28T13:55:09.043818",
     "exception": false,
     "start_time": "2022-06-28T13:55:09.000285",
     "status": "completed"
    },
    "tags": []
   },
   "source": [
    "## Preparing Submission File"
   ]
  },
  {
   "cell_type": "code",
   "execution_count": 45,
   "id": "5ec66a64",
   "metadata": {
    "execution": {
     "iopub.execute_input": "2022-06-28T13:55:09.141146Z",
     "iopub.status.busy": "2022-06-28T13:55:09.140528Z",
     "iopub.status.idle": "2022-06-28T13:55:09.146742Z",
     "shell.execute_reply": "2022-06-28T13:55:09.145710Z"
    },
    "papermill": {
     "duration": 0.06086,
     "end_time": "2022-06-28T13:55:09.151859",
     "exception": false,
     "start_time": "2022-06-28T13:55:09.090999",
     "status": "completed"
    },
    "tags": []
   },
   "outputs": [],
   "source": [
    "# model = models.Sequential()\n",
    "# model.add(layers.Dense(16, activation='relu', input_shape=(1000,)))\n",
    "# model.add(layers.Dense(16, activation='relu'))\n",
    "# model.add(layers.Dense(16, activation='relu'))\n",
    "# model.add(layers.Dense(1, activation='sigmoid'))\n",
    "\n",
    "# model.compile(optimizer=optimizers.RMSprop(lr=0.001),\n",
    "#               loss=losses.binary_crossentropy,\n",
    "#               metrics=[metrics.binary_accuracy])\n",
    "\n",
    "# model.fit(partial_x_train,\n",
    "#                     partial_y_train,\n",
    "#                     epochs=5,\n",
    "#                     batch_size=512,\n",
    "#                     validation_data=(x_val, y_val))"
   ]
  },
  {
   "cell_type": "code",
   "execution_count": 46,
   "id": "f87d1b45",
   "metadata": {
    "execution": {
     "iopub.execute_input": "2022-06-28T13:55:09.246005Z",
     "iopub.status.busy": "2022-06-28T13:55:09.245349Z",
     "iopub.status.idle": "2022-06-28T13:55:09.250483Z",
     "shell.execute_reply": "2022-06-28T13:55:09.249509Z"
    },
    "papermill": {
     "duration": 0.05777,
     "end_time": "2022-06-28T13:55:09.255414",
     "exception": false,
     "start_time": "2022-06-28T13:55:09.197644",
     "status": "completed"
    },
    "tags": []
   },
   "outputs": [],
   "source": [
    "# result = model.predict(x_test)\n",
    "# result[result>=0.5]=1\n",
    "# result[result<0.5]=0\n",
    "# result"
   ]
  },
  {
   "cell_type": "code",
   "execution_count": 47,
   "id": "d21e679e",
   "metadata": {
    "execution": {
     "iopub.execute_input": "2022-06-28T13:55:09.343624Z",
     "iopub.status.busy": "2022-06-28T13:55:09.342858Z",
     "iopub.status.idle": "2022-06-28T13:55:09.348187Z",
     "shell.execute_reply": "2022-06-28T13:55:09.346658Z"
    },
    "papermill": {
     "duration": 0.053466,
     "end_time": "2022-06-28T13:55:09.352155",
     "exception": false,
     "start_time": "2022-06-28T13:55:09.298689",
     "status": "completed"
    },
    "tags": []
   },
   "outputs": [],
   "source": [
    "# sample_submission=pd.read_csv('../input/nlp-getting-started/sample_submission.csv')\n",
    "# sample_submission['target']=result\n",
    "# sample_submission['target']=sample_submission['target'].astype(int)\n",
    "# #sample_submission.head()\n",
    "# sample_submission.to_csv('submission.csv', index=False)"
   ]
  },
  {
   "cell_type": "code",
   "execution_count": 48,
   "id": "a3afffe2",
   "metadata": {
    "execution": {
     "iopub.execute_input": "2022-06-28T13:55:09.450062Z",
     "iopub.status.busy": "2022-06-28T13:55:09.449620Z",
     "iopub.status.idle": "2022-06-28T13:55:12.559609Z",
     "shell.execute_reply": "2022-06-28T13:55:12.558323Z"
    },
    "papermill": {
     "duration": 3.158405,
     "end_time": "2022-06-28T13:55:12.562523",
     "exception": false,
     "start_time": "2022-06-28T13:55:09.404118",
     "status": "completed"
    },
    "tags": []
   },
   "outputs": [
    {
     "name": "stdout",
     "output_type": "stream",
     "text": [
      "Epoch 1/20\n",
      "13/13 [==============================] - 1s 16ms/step - loss: 0.6872 - binary_accuracy: 0.5512 - val_loss: 0.6612 - val_binary_accuracy: 0.6950\n",
      "Epoch 2/20\n",
      "13/13 [==============================] - 0s 7ms/step - loss: 0.6721 - binary_accuracy: 0.5894 - val_loss: 0.6387 - val_binary_accuracy: 0.7050\n",
      "Epoch 3/20\n",
      "13/13 [==============================] - 0s 6ms/step - loss: 0.6525 - binary_accuracy: 0.6321 - val_loss: 0.6277 - val_binary_accuracy: 0.7700\n",
      "Epoch 4/20\n",
      "13/13 [==============================] - 0s 5ms/step - loss: 0.6313 - binary_accuracy: 0.6862 - val_loss: 0.6115 - val_binary_accuracy: 0.7700\n",
      "Epoch 5/20\n",
      "13/13 [==============================] - 0s 5ms/step - loss: 0.6082 - binary_accuracy: 0.7314 - val_loss: 0.5825 - val_binary_accuracy: 0.7800\n",
      "Epoch 6/20\n",
      "13/13 [==============================] - 0s 6ms/step - loss: 0.5834 - binary_accuracy: 0.7577 - val_loss: 0.5644 - val_binary_accuracy: 0.7740\n",
      "Epoch 7/20\n",
      "13/13 [==============================] - 0s 6ms/step - loss: 0.5572 - binary_accuracy: 0.7777 - val_loss: 0.5456 - val_binary_accuracy: 0.7870\n",
      "Epoch 8/20\n",
      "13/13 [==============================] - 0s 5ms/step - loss: 0.5323 - binary_accuracy: 0.7939 - val_loss: 0.5223 - val_binary_accuracy: 0.7830\n",
      "Epoch 9/20\n",
      "13/13 [==============================] - 0s 5ms/step - loss: 0.5094 - binary_accuracy: 0.8013 - val_loss: 0.5208 - val_binary_accuracy: 0.7850\n",
      "Epoch 10/20\n",
      "13/13 [==============================] - 0s 5ms/step - loss: 0.4876 - binary_accuracy: 0.8070 - val_loss: 0.5184 - val_binary_accuracy: 0.7730\n",
      "Epoch 11/20\n",
      "13/13 [==============================] - 0s 7ms/step - loss: 0.4690 - binary_accuracy: 0.8140 - val_loss: 0.4970 - val_binary_accuracy: 0.7860\n",
      "Epoch 12/20\n",
      "13/13 [==============================] - 0s 11ms/step - loss: 0.4525 - binary_accuracy: 0.8143 - val_loss: 0.5075 - val_binary_accuracy: 0.7700\n",
      "Epoch 13/20\n",
      "13/13 [==============================] - 0s 10ms/step - loss: 0.4388 - binary_accuracy: 0.8178 - val_loss: 0.5004 - val_binary_accuracy: 0.7700\n",
      "Epoch 14/20\n",
      "13/13 [==============================] - 0s 8ms/step - loss: 0.4273 - binary_accuracy: 0.8222 - val_loss: 0.4911 - val_binary_accuracy: 0.7740\n",
      "Epoch 15/20\n",
      "13/13 [==============================] - 0s 8ms/step - loss: 0.4198 - binary_accuracy: 0.8210 - val_loss: 0.4952 - val_binary_accuracy: 0.7700\n",
      "Epoch 16/20\n",
      "13/13 [==============================] - 0s 8ms/step - loss: 0.4124 - binary_accuracy: 0.8241 - val_loss: 0.5081 - val_binary_accuracy: 0.7620\n",
      "Epoch 17/20\n",
      "13/13 [==============================] - 0s 8ms/step - loss: 0.4053 - binary_accuracy: 0.8244 - val_loss: 0.5189 - val_binary_accuracy: 0.7530\n",
      "Epoch 18/20\n",
      "13/13 [==============================] - 0s 8ms/step - loss: 0.4009 - binary_accuracy: 0.8249 - val_loss: 0.4906 - val_binary_accuracy: 0.7780\n",
      "Epoch 19/20\n",
      "13/13 [==============================] - 0s 5ms/step - loss: 0.3964 - binary_accuracy: 0.8285 - val_loss: 0.5376 - val_binary_accuracy: 0.7320\n",
      "Epoch 20/20\n",
      "13/13 [==============================] - 0s 6ms/step - loss: 0.3936 - binary_accuracy: 0.8270 - val_loss: 0.5237 - val_binary_accuracy: 0.7540\n"
     ]
    }
   ],
   "source": [
    "### using freq\n",
    "x_train = tok.texts_to_matrix(trn_texts, mode='freq')\n",
    "x_test = tok.texts_to_matrix(tst_texts, mode='freq')\n",
    "\n",
    "x_val = x_train[:1000]\n",
    "partial_x_train = x_train[1000:]\n",
    "\n",
    "y_val = y_train[:1000]\n",
    "partial_y_train = y_train[1000:]\n",
    "\n",
    "model = models.Sequential()\n",
    "model.add(layers.Dense(16, activation='relu', input_shape=(1000,)))\n",
    "model.add(layers.Dense(16, activation='relu'))\n",
    "model.add(layers.Dense(16, activation='relu'))\n",
    "model.add(layers.Dense(1, activation='sigmoid'))\n",
    "\n",
    "model.compile(optimizer=optimizers.RMSprop(lr=0.001),\n",
    "              loss=losses.binary_crossentropy,\n",
    "              metrics=[metrics.binary_accuracy])\n",
    "\n",
    "history = model.fit(partial_x_train,\n",
    "                    partial_y_train,\n",
    "                    epochs=20,\n",
    "                    batch_size=512,\n",
    "                    validation_data=(x_val, y_val))"
   ]
  },
  {
   "cell_type": "code",
   "execution_count": 49,
   "id": "c08ba1ff",
   "metadata": {
    "execution": {
     "iopub.execute_input": "2022-06-28T13:55:12.631627Z",
     "iopub.status.busy": "2022-06-28T13:55:12.630489Z",
     "iopub.status.idle": "2022-06-28T13:55:12.858729Z",
     "shell.execute_reply": "2022-06-28T13:55:12.857540Z"
    },
    "papermill": {
     "duration": 0.265284,
     "end_time": "2022-06-28T13:55:12.861125",
     "exception": false,
     "start_time": "2022-06-28T13:55:12.595841",
     "status": "completed"
    },
    "tags": []
   },
   "outputs": [
    {
     "data": {
      "image/png": "[encoded data removed]",
      "text/plain": [
       "<Figure size 432x288 with 1 Axes>"
      ]
     },
     "metadata": {
      "needs_background": "light"
     },
     "output_type": "display_data"
    }
   ],
   "source": [
    "acc = history.history['binary_accuracy']\n",
    "val_acc = history.history['val_binary_accuracy']\n",
    "loss = history.history['loss']\n",
    "val_loss = history.history['val_loss']\n",
    "\n",
    "epochs = range(1, len(acc) + 1)\n",
    "\n",
    "# \"bo\" is for \"blue dot\"\n",
    "plt.plot(epochs, loss, 'bo', label='Training loss')\n",
    "# b is for \"solid blue line\"\n",
    "plt.plot(epochs, val_loss, 'b', label='Validation loss')\n",
    "plt.title('Training and validation loss')\n",
    "plt.xlabel('Epochs')\n",
    "plt.ylabel('Loss')\n",
    "plt.legend()\n",
    "\n",
    "plt.show()"
   ]
  },
  {
   "cell_type": "code",
   "execution_count": 50,
   "id": "29c4d0a8",
   "metadata": {
    "execution": {
     "iopub.execute_input": "2022-06-28T13:55:12.927801Z",
     "iopub.status.busy": "2022-06-28T13:55:12.925842Z",
     "iopub.status.idle": "2022-06-28T13:55:13.157330Z",
     "shell.execute_reply": "2022-06-28T13:55:13.156407Z"
    },
    "papermill": {
     "duration": 0.266082,
     "end_time": "2022-06-28T13:55:13.159560",
     "exception": false,
     "start_time": "2022-06-28T13:55:12.893478",
     "status": "completed"
    },
    "tags": []
   },
   "outputs": [
    {
     "data": {
      "image/png": "[encoded data removed]",
      "text/plain": [
       "<Figure size 432x288 with 1 Axes>"
      ]
     },
     "metadata": {
      "needs_background": "light"
     },
     "output_type": "display_data"
    }
   ],
   "source": [
    "plt.plot(epochs, acc, 'bo', label='Training acc')\n",
    "plt.plot(epochs, val_acc, 'b', label='Validation acc')\n",
    "plt.title('Training and validation accuracy')\n",
    "plt.xlabel('Epochs')\n",
    "plt.ylabel('accuracy')\n",
    "plt.legend()\n",
    "plt.grid()\n",
    "plt.show()"
   ]
  },
  {
   "cell_type": "markdown",
   "id": "17521d17",
   "metadata": {
    "papermill": {
     "duration": 0.030099,
     "end_time": "2022-06-28T13:55:13.221962",
     "exception": false,
     "start_time": "2022-06-28T13:55:13.191863",
     "status": "completed"
    },
    "tags": []
   },
   "source": [
    "## Preparing Submission File"
   ]
  },
  {
   "cell_type": "code",
   "execution_count": 51,
   "id": "b2bb8f02",
   "metadata": {
    "execution": {
     "iopub.execute_input": "2022-06-28T13:55:13.290278Z",
     "iopub.status.busy": "2022-06-28T13:55:13.289901Z",
     "iopub.status.idle": "2022-06-28T13:55:13.295051Z",
     "shell.execute_reply": "2022-06-28T13:55:13.293959Z"
    },
    "papermill": {
     "duration": 0.043074,
     "end_time": "2022-06-28T13:55:13.297430",
     "exception": false,
     "start_time": "2022-06-28T13:55:13.254356",
     "status": "completed"
    },
    "tags": []
   },
   "outputs": [],
   "source": [
    "# model = models.Sequential()\n",
    "# model.add(layers.Dense(16, activation='relu', input_shape=(1000,)))\n",
    "# model.add(layers.Dense(16, activation='relu'))\n",
    "# model.add(layers.Dense(16, activation='relu'))\n",
    "# model.add(layers.Dense(1, activation='sigmoid'))\n",
    "\n",
    "# model.compile(optimizer=optimizers.RMSprop(lr=0.001),\n",
    "#               loss=losses.binary_crossentropy,\n",
    "#               metrics=[metrics.binary_accuracy])\n",
    "\n",
    "# model.fit(partial_x_train,\n",
    "#                     partial_y_train,\n",
    "#                     epochs=10,\n",
    "#                     batch_size=512,\n",
    "#                     validation_data=(x_val, y_val))"
   ]
  },
  {
   "cell_type": "code",
   "execution_count": 52,
   "id": "da08cb49",
   "metadata": {
    "execution": {
     "iopub.execute_input": "2022-06-28T13:55:13.368537Z",
     "iopub.status.busy": "2022-06-28T13:55:13.368135Z",
     "iopub.status.idle": "2022-06-28T13:55:13.373288Z",
     "shell.execute_reply": "2022-06-28T13:55:13.372107Z"
    },
    "papermill": {
     "duration": 0.044115,
     "end_time": "2022-06-28T13:55:13.376247",
     "exception": false,
     "start_time": "2022-06-28T13:55:13.332132",
     "status": "completed"
    },
    "tags": []
   },
   "outputs": [],
   "source": [
    "# result = model.predict(x_test)\n",
    "# result[result>=0.5]=1\n",
    "# result[result<0.5]=0\n",
    "# sample_submission=pd.read_csv('../input/nlp-getting-started/sample_submission.csv')\n",
    "# sample_submission['target']=result\n",
    "# sample_submission['target']=sample_submission['target'].astype(int)\n",
    "# #sample_submission.head()\n",
    "# sample_submission.to_csv('submission.csv', index=False)"
   ]
  },
  {
   "cell_type": "markdown",
   "id": "e29070a8",
   "metadata": {
    "papermill": {
     "duration": 0.032258,
     "end_time": "2022-06-28T13:55:13.442579",
     "exception": false,
     "start_time": "2022-06-28T13:55:13.410321",
     "status": "completed"
    },
    "tags": []
   },
   "source": [
    "## Use LSTM "
   ]
  },
  {
   "cell_type": "code",
   "execution_count": 53,
   "id": "a085a300",
   "metadata": {
    "execution": {
     "iopub.execute_input": "2022-06-28T13:55:13.507245Z",
     "iopub.status.busy": "2022-06-28T13:55:13.506866Z",
     "iopub.status.idle": "2022-06-28T13:55:13.513120Z",
     "shell.execute_reply": "2022-06-28T13:55:13.511968Z"
    },
    "papermill": {
     "duration": 0.041878,
     "end_time": "2022-06-28T13:55:13.515960",
     "exception": false,
     "start_time": "2022-06-28T13:55:13.474082",
     "status": "completed"
    },
    "tags": []
   },
   "outputs": [],
   "source": [
    "maxlen = max([len(t) for t in trn_texts])"
   ]
  },
  {
   "cell_type": "code",
   "execution_count": 54,
   "id": "c90f8e56",
   "metadata": {
    "execution": {
     "iopub.execute_input": "2022-06-28T13:55:13.585942Z",
     "iopub.status.busy": "2022-06-28T13:55:13.585563Z",
     "iopub.status.idle": "2022-06-28T13:55:13.592441Z",
     "shell.execute_reply": "2022-06-28T13:55:13.591462Z"
    },
    "papermill": {
     "duration": 0.044281,
     "end_time": "2022-06-28T13:55:13.594396",
     "exception": false,
     "start_time": "2022-06-28T13:55:13.550115",
     "status": "completed"
    },
    "tags": []
   },
   "outputs": [
    {
     "data": {
      "text/plain": [
       "137"
      ]
     },
     "execution_count": 54,
     "metadata": {},
     "output_type": "execute_result"
    }
   ],
   "source": [
    "maxlen"
   ]
  },
  {
   "cell_type": "code",
   "execution_count": 55,
   "id": "d4ade520",
   "metadata": {
    "execution": {
     "iopub.execute_input": "2022-06-28T13:55:13.659156Z",
     "iopub.status.busy": "2022-06-28T13:55:13.658516Z",
     "iopub.status.idle": "2022-06-28T13:55:13.663792Z",
     "shell.execute_reply": "2022-06-28T13:55:13.662848Z"
    },
    "papermill": {
     "duration": 0.039836,
     "end_time": "2022-06-28T13:55:13.665857",
     "exception": false,
     "start_time": "2022-06-28T13:55:13.626021",
     "status": "completed"
    },
    "tags": []
   },
   "outputs": [],
   "source": [
    "l=[len(t) for t in trn_texts]"
   ]
  },
  {
   "cell_type": "code",
   "execution_count": 56,
   "id": "e044ad7f",
   "metadata": {
    "execution": {
     "iopub.execute_input": "2022-06-28T13:55:13.734310Z",
     "iopub.status.busy": "2022-06-28T13:55:13.733315Z",
     "iopub.status.idle": "2022-06-28T13:55:13.981457Z",
     "shell.execute_reply": "2022-06-28T13:55:13.980491Z"
    },
    "papermill": {
     "duration": 0.286032,
     "end_time": "2022-06-28T13:55:13.983964",
     "exception": false,
     "start_time": "2022-06-28T13:55:13.697932",
     "status": "completed"
    },
    "tags": []
   },
   "outputs": [
    {
     "data": {
      "image/png": "[encoded data removed]",
      "text/plain": [
       "<Figure size 432x288 with 1 Axes>"
      ]
     },
     "metadata": {
      "needs_background": "light"
     },
     "output_type": "display_data"
    }
   ],
   "source": [
    "plt.hist(l)\n",
    "plt.grid()"
   ]
  },
  {
   "cell_type": "code",
   "execution_count": 57,
   "id": "6ef41196",
   "metadata": {
    "execution": {
     "iopub.execute_input": "2022-06-28T13:55:14.050875Z",
     "iopub.status.busy": "2022-06-28T13:55:14.050491Z",
     "iopub.status.idle": "2022-06-28T13:55:14.055602Z",
     "shell.execute_reply": "2022-06-28T13:55:14.054498Z"
    },
    "papermill": {
     "duration": 0.041279,
     "end_time": "2022-06-28T13:55:14.057910",
     "exception": false,
     "start_time": "2022-06-28T13:55:14.016631",
     "status": "completed"
    },
    "tags": []
   },
   "outputs": [],
   "source": [
    "maxlen=80"
   ]
  },
  {
   "cell_type": "code",
   "execution_count": 58,
   "id": "b20af699",
   "metadata": {
    "execution": {
     "iopub.execute_input": "2022-06-28T13:55:14.125183Z",
     "iopub.status.busy": "2022-06-28T13:55:14.124827Z",
     "iopub.status.idle": "2022-06-28T13:55:14.273369Z",
     "shell.execute_reply": "2022-06-28T13:55:14.272349Z"
    },
    "papermill": {
     "duration": 0.184743,
     "end_time": "2022-06-28T13:55:14.275959",
     "exception": false,
     "start_time": "2022-06-28T13:55:14.091216",
     "status": "completed"
    },
    "tags": []
   },
   "outputs": [],
   "source": [
    "training_messages2 = tok.texts_to_sequences(trn_texts)\n",
    "\n",
    "training_padded = pad_sequences(training_messages2,\n",
    "                                maxlen=maxlen, \n",
    "                                truncating='post', \n",
    "                                padding='post'\n",
    "                               )"
   ]
  },
  {
   "cell_type": "code",
   "execution_count": 59,
   "id": "653805fd",
   "metadata": {
    "execution": {
     "iopub.execute_input": "2022-06-28T13:55:14.342797Z",
     "iopub.status.busy": "2022-06-28T13:55:14.342392Z",
     "iopub.status.idle": "2022-06-28T13:55:14.411675Z",
     "shell.execute_reply": "2022-06-28T13:55:14.410669Z"
    },
    "papermill": {
     "duration": 0.105544,
     "end_time": "2022-06-28T13:55:14.414040",
     "exception": false,
     "start_time": "2022-06-28T13:55:14.308496",
     "status": "completed"
    },
    "tags": []
   },
   "outputs": [],
   "source": [
    "# #tst_texts\n",
    "test_messages = tok.texts_to_sequences(tst_texts)\n",
    "\n",
    "test_padded = pad_sequences(test_messages,\n",
    "                                maxlen=maxlen, \n",
    "                                truncating='post', \n",
    "                                padding='post'\n",
    "                               )"
   ]
  },
  {
   "cell_type": "code",
   "execution_count": 60,
   "id": "caee05f6",
   "metadata": {
    "execution": {
     "iopub.execute_input": "2022-06-28T13:55:14.476621Z",
     "iopub.status.busy": "2022-06-28T13:55:14.476260Z",
     "iopub.status.idle": "2022-06-28T13:55:14.941647Z",
     "shell.execute_reply": "2022-06-28T13:55:14.940573Z"
    },
    "papermill": {
     "duration": 0.500223,
     "end_time": "2022-06-28T13:55:14.944513",
     "exception": false,
     "start_time": "2022-06-28T13:55:14.444290",
     "status": "completed"
    },
    "tags": []
   },
   "outputs": [
    {
     "name": "stdout",
     "output_type": "stream",
     "text": [
      "Model: \"sequential_3\"\n",
      "_________________________________________________________________\n",
      "Layer (type)                 Output Shape              Param #   \n",
      "=================================================================\n",
      "embedding (Embedding)        (None, 80, 20)            20000     \n",
      "_________________________________________________________________\n",
      "bidirectional (Bidirectional (None, 100)               28400     \n",
      "_________________________________________________________________\n",
      "flatten (Flatten)            (None, 100)               0         \n",
      "_________________________________________________________________\n",
      "dense_12 (Dense)             (None, 1)                 101       \n",
      "=================================================================\n",
      "Total params: 48,501\n",
      "Trainable params: 48,501\n",
      "Non-trainable params: 0\n",
      "_________________________________________________________________\n"
     ]
    }
   ],
   "source": [
    "training_padded = np.array(training_padded)\n",
    "x_val = training_padded[:1000]\n",
    "partial_x_train = training_padded[1000:]\n",
    "\n",
    "y_val = y_train[:1000]\n",
    "partial_y_train = y_train[1000:]\n",
    "\n",
    "model = models.Sequential()\n",
    "model.add(layers.Embedding(1000, 20, input_length=maxlen))\n",
    "model.add(layers.Bidirectional(layers.LSTM(50, dropout=0.2)))\n",
    "model.add(layers.Flatten())\n",
    "model.add(layers.Dense(1, activation='sigmoid'))\n",
    "\n",
    "model.compile(\n",
    "    loss='binary_crossentropy',\n",
    "    optimizer='Adamax',\n",
    "    metrics=[metrics.binary_accuracy]\n",
    ")\n",
    "\n",
    "model.summary()"
   ]
  },
  {
   "cell_type": "code",
   "execution_count": 61,
   "id": "3243a309",
   "metadata": {
    "execution": {
     "iopub.execute_input": "2022-06-28T13:55:15.009498Z",
     "iopub.status.busy": "2022-06-28T13:55:15.008811Z",
     "iopub.status.idle": "2022-06-28T13:55:58.478996Z",
     "shell.execute_reply": "2022-06-28T13:55:58.477814Z"
    },
    "papermill": {
     "duration": 43.505162,
     "end_time": "2022-06-28T13:55:58.482139",
     "exception": false,
     "start_time": "2022-06-28T13:55:14.976977",
     "status": "completed"
    },
    "tags": []
   },
   "outputs": [
    {
     "name": "stdout",
     "output_type": "stream",
     "text": [
      "Epoch 1/35\n"
     ]
    },
    {
     "name": "stderr",
     "output_type": "stream",
     "text": [
      "2022-06-28 13:55:18.547741: I tensorflow/stream_executor/cuda/cuda_dnn.cc:369] Loaded cuDNN version 8005\n"
     ]
    },
    {
     "name": "stdout",
     "output_type": "stream",
     "text": [
      "52/52 [==============================] - 5s 25ms/step - loss: 0.6864 - binary_accuracy: 0.5439 - val_loss: 0.6451 - val_binary_accuracy: 0.6950\n",
      "Epoch 2/35\n",
      "52/52 [==============================] - 1s 12ms/step - loss: 0.6705 - binary_accuracy: 0.5656 - val_loss: 0.6025 - val_binary_accuracy: 0.7070\n",
      "Epoch 3/35\n",
      "52/52 [==============================] - 1s 12ms/step - loss: 0.6350 - binary_accuracy: 0.6682 - val_loss: 0.5804 - val_binary_accuracy: 0.7510\n",
      "Epoch 4/35\n",
      "52/52 [==============================] - 1s 12ms/step - loss: 0.5829 - binary_accuracy: 0.7106 - val_loss: 0.5292 - val_binary_accuracy: 0.7760\n",
      "Epoch 5/35\n",
      "52/52 [==============================] - 1s 15ms/step - loss: 0.5288 - binary_accuracy: 0.7478 - val_loss: 0.4907 - val_binary_accuracy: 0.7860\n",
      "Epoch 6/35\n",
      "52/52 [==============================] - 1s 13ms/step - loss: 0.4947 - binary_accuracy: 0.7647 - val_loss: 0.5118 - val_binary_accuracy: 0.7890\n",
      "Epoch 7/35\n",
      "52/52 [==============================] - 1s 12ms/step - loss: 0.4710 - binary_accuracy: 0.7822 - val_loss: 0.4732 - val_binary_accuracy: 0.7960\n",
      "Epoch 8/35\n",
      "52/52 [==============================] - 1s 12ms/step - loss: 0.4545 - binary_accuracy: 0.7928 - val_loss: 0.4655 - val_binary_accuracy: 0.7920\n",
      "Epoch 9/35\n",
      "52/52 [==============================] - 1s 13ms/step - loss: 0.4400 - binary_accuracy: 0.7990 - val_loss: 0.4725 - val_binary_accuracy: 0.8040\n",
      "Epoch 10/35\n",
      "52/52 [==============================] - 1s 12ms/step - loss: 0.4290 - binary_accuracy: 0.8086 - val_loss: 0.4661 - val_binary_accuracy: 0.8020\n",
      "Epoch 11/35\n",
      "52/52 [==============================] - 1s 13ms/step - loss: 0.4244 - binary_accuracy: 0.8025 - val_loss: 0.4721 - val_binary_accuracy: 0.7940\n",
      "Epoch 12/35\n",
      "52/52 [==============================] - 1s 12ms/step - loss: 0.4166 - binary_accuracy: 0.8111 - val_loss: 0.4726 - val_binary_accuracy: 0.7950\n",
      "Epoch 13/35\n",
      "52/52 [==============================] - 1s 12ms/step - loss: 0.4109 - binary_accuracy: 0.8172 - val_loss: 0.4679 - val_binary_accuracy: 0.7960\n",
      "Epoch 14/35\n",
      "52/52 [==============================] - 1s 12ms/step - loss: 0.4084 - binary_accuracy: 0.8154 - val_loss: 0.4677 - val_binary_accuracy: 0.7940\n",
      "Epoch 15/35\n",
      "52/52 [==============================] - 1s 12ms/step - loss: 0.4054 - binary_accuracy: 0.8172 - val_loss: 0.4656 - val_binary_accuracy: 0.7960\n",
      "Epoch 16/35\n",
      "52/52 [==============================] - 1s 12ms/step - loss: 0.3996 - binary_accuracy: 0.8225 - val_loss: 0.4837 - val_binary_accuracy: 0.7940\n",
      "Epoch 17/35\n",
      "52/52 [==============================] - 1s 12ms/step - loss: 0.3950 - binary_accuracy: 0.8247 - val_loss: 0.5021 - val_binary_accuracy: 0.7850\n",
      "Epoch 18/35\n",
      "52/52 [==============================] - 1s 13ms/step - loss: 0.3924 - binary_accuracy: 0.8204 - val_loss: 0.4844 - val_binary_accuracy: 0.7980\n",
      "Epoch 19/35\n",
      "52/52 [==============================] - 1s 12ms/step - loss: 0.3887 - binary_accuracy: 0.8259 - val_loss: 0.4801 - val_binary_accuracy: 0.8040\n",
      "Epoch 20/35\n",
      "52/52 [==============================] - 1s 12ms/step - loss: 0.3877 - binary_accuracy: 0.8269 - val_loss: 0.4891 - val_binary_accuracy: 0.7950\n",
      "Epoch 21/35\n",
      "52/52 [==============================] - 1s 12ms/step - loss: 0.3842 - binary_accuracy: 0.8272 - val_loss: 0.4866 - val_binary_accuracy: 0.8010\n",
      "Epoch 22/35\n",
      "52/52 [==============================] - 1s 16ms/step - loss: 0.3828 - binary_accuracy: 0.8263 - val_loss: 0.4836 - val_binary_accuracy: 0.8000\n",
      "Epoch 23/35\n",
      "52/52 [==============================] - 1s 13ms/step - loss: 0.3820 - binary_accuracy: 0.8341 - val_loss: 0.4731 - val_binary_accuracy: 0.7970\n",
      "Epoch 24/35\n",
      "52/52 [==============================] - 1s 13ms/step - loss: 0.3758 - binary_accuracy: 0.8314 - val_loss: 0.4893 - val_binary_accuracy: 0.7880\n",
      "Epoch 25/35\n",
      "52/52 [==============================] - 1s 12ms/step - loss: 0.3743 - binary_accuracy: 0.8294 - val_loss: 0.4814 - val_binary_accuracy: 0.7950\n",
      "Epoch 26/35\n",
      "52/52 [==============================] - 1s 13ms/step - loss: 0.3747 - binary_accuracy: 0.8359 - val_loss: 0.4967 - val_binary_accuracy: 0.7790\n",
      "Epoch 27/35\n",
      "52/52 [==============================] - 1s 12ms/step - loss: 0.3721 - binary_accuracy: 0.8390 - val_loss: 0.4859 - val_binary_accuracy: 0.7920\n",
      "Epoch 28/35\n",
      "52/52 [==============================] - 1s 13ms/step - loss: 0.3724 - binary_accuracy: 0.8337 - val_loss: 0.5021 - val_binary_accuracy: 0.7820\n",
      "Epoch 29/35\n",
      "52/52 [==============================] - 1s 12ms/step - loss: 0.3687 - binary_accuracy: 0.8340 - val_loss: 0.4814 - val_binary_accuracy: 0.7900\n",
      "Epoch 30/35\n",
      "52/52 [==============================] - 1s 12ms/step - loss: 0.3673 - binary_accuracy: 0.8356 - val_loss: 0.5079 - val_binary_accuracy: 0.7800\n",
      "Epoch 31/35\n",
      "52/52 [==============================] - 1s 12ms/step - loss: 0.3658 - binary_accuracy: 0.8388 - val_loss: 0.5003 - val_binary_accuracy: 0.7840\n",
      "Epoch 32/35\n",
      "52/52 [==============================] - 1s 12ms/step - loss: 0.3669 - binary_accuracy: 0.8364 - val_loss: 0.4900 - val_binary_accuracy: 0.7780\n",
      "Epoch 33/35\n",
      "52/52 [==============================] - 1s 12ms/step - loss: 0.3625 - binary_accuracy: 0.8402 - val_loss: 0.4989 - val_binary_accuracy: 0.7800\n",
      "Epoch 34/35\n",
      "52/52 [==============================] - 1s 14ms/step - loss: 0.3625 - binary_accuracy: 0.8415 - val_loss: 0.4909 - val_binary_accuracy: 0.7820\n",
      "Epoch 35/35\n",
      "52/52 [==============================] - 1s 16ms/step - loss: 0.3628 - binary_accuracy: 0.8414 - val_loss: 0.5039 - val_binary_accuracy: 0.7810\n"
     ]
    }
   ],
   "source": [
    "history = model.fit(partial_x_train,\n",
    "                    partial_y_train,\n",
    "                    epochs=35,\n",
    "                    batch_size=128,\n",
    "                    validation_data=(x_val, y_val))"
   ]
  },
  {
   "cell_type": "code",
   "execution_count": 62,
   "id": "31716e2f",
   "metadata": {
    "execution": {
     "iopub.execute_input": "2022-06-28T13:55:58.606866Z",
     "iopub.status.busy": "2022-06-28T13:55:58.605767Z",
     "iopub.status.idle": "2022-06-28T13:55:58.825604Z",
     "shell.execute_reply": "2022-06-28T13:55:58.824617Z"
    },
    "papermill": {
     "duration": 0.282981,
     "end_time": "2022-06-28T13:55:58.827601",
     "exception": false,
     "start_time": "2022-06-28T13:55:58.544620",
     "status": "completed"
    },
    "tags": []
   },
   "outputs": [
    {
     "data": {
      "image/png": "[encoded data removed]",
      "text/plain": [
       "<Figure size 432x288 with 1 Axes>"
      ]
     },
     "metadata": {
      "needs_background": "light"
     },
     "output_type": "display_data"
    }
   ],
   "source": [
    "acc = history.history['binary_accuracy']\n",
    "val_acc = history.history['val_binary_accuracy']\n",
    "loss = history.history['loss']\n",
    "val_loss = history.history['val_loss']\n",
    "\n",
    "epochs = range(1, len(acc) + 1)\n",
    "\n",
    "# \"bo\" is for \"blue dot\"\n",
    "plt.plot(epochs, loss, 'bo', label='Training loss')\n",
    "# b is for \"solid blue line\"\n",
    "plt.plot(epochs, val_loss, 'b', label='Validation loss')\n",
    "plt.title('Training and validation loss')\n",
    "plt.xlabel('Epochs')\n",
    "plt.ylabel('Loss')\n",
    "plt.legend()\n",
    "\n",
    "plt.show()"
   ]
  },
  {
   "cell_type": "code",
   "execution_count": 63,
   "id": "017f586e",
   "metadata": {
    "execution": {
     "iopub.execute_input": "2022-06-28T13:55:58.950640Z",
     "iopub.status.busy": "2022-06-28T13:55:58.950245Z",
     "iopub.status.idle": "2022-06-28T13:55:59.183396Z",
     "shell.execute_reply": "2022-06-28T13:55:59.182383Z"
    },
    "papermill": {
     "duration": 0.298398,
     "end_time": "2022-06-28T13:55:59.185672",
     "exception": false,
     "start_time": "2022-06-28T13:55:58.887274",
     "status": "completed"
    },
    "tags": []
   },
   "outputs": [
    {
     "data": {
      "image/png": "[encoded data removed]",
      "text/plain": [
       "<Figure size 432x288 with 1 Axes>"
      ]
     },
     "metadata": {
      "needs_background": "light"
     },
     "output_type": "display_data"
    }
   ],
   "source": [
    "\n",
    "\n",
    "plt.plot(epochs, acc, 'bo', label='Training acc')\n",
    "plt.plot(epochs, val_acc, 'b', label='Validation acc')\n",
    "plt.title('Training and validation accuracy')\n",
    "plt.xlabel('Epochs')\n",
    "plt.ylabel('accuracy')\n",
    "plt.legend()\n",
    "plt.grid()\n",
    "plt.show()"
   ]
  },
  {
   "cell_type": "markdown",
   "id": "2903d667",
   "metadata": {
    "papermill": {
     "duration": 0.059946,
     "end_time": "2022-06-28T13:55:59.304472",
     "exception": false,
     "start_time": "2022-06-28T13:55:59.244526",
     "status": "completed"
    },
    "tags": []
   },
   "source": [
    "## Preparing Submission File\n"
   ]
  },
  {
   "cell_type": "code",
   "execution_count": 64,
   "id": "783c9974",
   "metadata": {
    "execution": {
     "iopub.execute_input": "2022-06-28T13:55:59.426055Z",
     "iopub.status.busy": "2022-06-28T13:55:59.425085Z",
     "iopub.status.idle": "2022-06-28T13:56:13.227419Z",
     "shell.execute_reply": "2022-06-28T13:56:13.226408Z"
    },
    "papermill": {
     "duration": 13.865064,
     "end_time": "2022-06-28T13:56:13.229703",
     "exception": false,
     "start_time": "2022-06-28T13:55:59.364639",
     "status": "completed"
    },
    "tags": []
   },
   "outputs": [
    {
     "name": "stdout",
     "output_type": "stream",
     "text": [
      "Epoch 1/15\n",
      "52/52 [==============================] - 4s 31ms/step - loss: 0.6864 - binary_accuracy: 0.5516 - val_loss: 0.6460 - val_binary_accuracy: 0.6950\n",
      "Epoch 2/15\n",
      "52/52 [==============================] - 1s 12ms/step - loss: 0.6738 - binary_accuracy: 0.5689 - val_loss: 0.6271 - val_binary_accuracy: 0.7240\n",
      "Epoch 3/15\n",
      "52/52 [==============================] - 1s 12ms/step - loss: 0.6426 - binary_accuracy: 0.6640 - val_loss: 0.5811 - val_binary_accuracy: 0.7490\n",
      "Epoch 4/15\n",
      "52/52 [==============================] - 1s 13ms/step - loss: 0.6069 - binary_accuracy: 0.6945 - val_loss: 0.5430 - val_binary_accuracy: 0.7640\n",
      "Epoch 5/15\n",
      "52/52 [==============================] - 1s 13ms/step - loss: 0.5586 - binary_accuracy: 0.7293 - val_loss: 0.5137 - val_binary_accuracy: 0.7860\n",
      "Epoch 6/15\n",
      "52/52 [==============================] - 1s 14ms/step - loss: 0.5070 - binary_accuracy: 0.7596 - val_loss: 0.5165 - val_binary_accuracy: 0.7850\n",
      "Epoch 7/15\n",
      "52/52 [==============================] - 1s 12ms/step - loss: 0.4761 - binary_accuracy: 0.7844 - val_loss: 0.4806 - val_binary_accuracy: 0.7980\n",
      "Epoch 8/15\n",
      "52/52 [==============================] - 1s 12ms/step - loss: 0.4530 - binary_accuracy: 0.7897 - val_loss: 0.4755 - val_binary_accuracy: 0.8000\n",
      "Epoch 9/15\n",
      "52/52 [==============================] - 1s 12ms/step - loss: 0.4403 - binary_accuracy: 0.7975 - val_loss: 0.4761 - val_binary_accuracy: 0.7970\n",
      "Epoch 10/15\n",
      "52/52 [==============================] - 1s 12ms/step - loss: 0.4296 - binary_accuracy: 0.8021 - val_loss: 0.5098 - val_binary_accuracy: 0.7810\n",
      "Epoch 11/15\n",
      "52/52 [==============================] - 1s 12ms/step - loss: 0.4209 - binary_accuracy: 0.8092 - val_loss: 0.4747 - val_binary_accuracy: 0.7940\n",
      "Epoch 12/15\n",
      "52/52 [==============================] - 1s 12ms/step - loss: 0.4179 - binary_accuracy: 0.8093 - val_loss: 0.4635 - val_binary_accuracy: 0.8020\n",
      "Epoch 13/15\n",
      "52/52 [==============================] - 1s 12ms/step - loss: 0.4114 - binary_accuracy: 0.8149 - val_loss: 0.4783 - val_binary_accuracy: 0.7970\n",
      "Epoch 14/15\n",
      "52/52 [==============================] - 1s 13ms/step - loss: 0.4048 - binary_accuracy: 0.8191 - val_loss: 0.4727 - val_binary_accuracy: 0.7990\n",
      "Epoch 15/15\n",
      "52/52 [==============================] - 1s 12ms/step - loss: 0.4011 - binary_accuracy: 0.8205 - val_loss: 0.4761 - val_binary_accuracy: 0.7990\n"
     ]
    },
    {
     "data": {
      "text/plain": [
       "<keras.callbacks.History at 0x7ff970d78750>"
      ]
     },
     "execution_count": 64,
     "metadata": {},
     "output_type": "execute_result"
    }
   ],
   "source": [
    "model = models.Sequential()\n",
    "model.add(layers.Embedding(1000, 20, input_length=maxlen))\n",
    "model.add(layers.Bidirectional(layers.LSTM(50, dropout=0.2)))\n",
    "model.add(layers.Flatten())\n",
    "model.add(layers.Dense(1, activation='sigmoid'))\n",
    "\n",
    "model.compile(\n",
    "    loss='binary_crossentropy',\n",
    "    optimizer='Adamax',\n",
    "    metrics=[metrics.binary_accuracy]\n",
    ")\n",
    "\n",
    "\n",
    "model.fit(partial_x_train,\n",
    "                    partial_y_train,\n",
    "                    epochs=15,\n",
    "                    batch_size=128,\n",
    "                    validation_data=(x_val, y_val))"
   ]
  },
  {
   "cell_type": "code",
   "execution_count": null,
   "id": "16b15b4c",
   "metadata": {
    "papermill": {
     "duration": 0.076605,
     "end_time": "2022-06-28T13:56:13.380519",
     "exception": false,
     "start_time": "2022-06-28T13:56:13.303914",
     "status": "completed"
    },
    "tags": []
   },
   "outputs": [],
   "source": []
  },
  {
   "cell_type": "code",
   "execution_count": 65,
   "id": "7f4ddfb3",
   "metadata": {
    "execution": {
     "iopub.execute_input": "2022-06-28T13:56:13.534125Z",
     "iopub.status.busy": "2022-06-28T13:56:13.533747Z",
     "iopub.status.idle": "2022-06-28T13:56:14.772069Z",
     "shell.execute_reply": "2022-06-28T13:56:14.770869Z"
    },
    "papermill": {
     "duration": 1.317911,
     "end_time": "2022-06-28T13:56:14.775190",
     "exception": false,
     "start_time": "2022-06-28T13:56:13.457279",
     "status": "completed"
    },
    "tags": []
   },
   "outputs": [],
   "source": [
    "result = model.predict(test_padded)\n",
    "result[result>=0.5]=1\n",
    "result[result<0.5]=0\n",
    "sample_submission=pd.read_csv('../input/nlp-getting-started/sample_submission.csv')\n",
    "sample_submission['target']=result\n",
    "sample_submission['target']=sample_submission['target'].astype(int)\n",
    "#sample_submission.head()\n",
    "sample_submission.to_csv('submission.csv', index=False)"
   ]
  },
  {
   "cell_type": "code",
   "execution_count": null,
   "id": "1b21d88b",
   "metadata": {
    "papermill": {
     "duration": 0.14044,
     "end_time": "2022-06-28T13:56:15.070933",
     "exception": false,
     "start_time": "2022-06-28T13:56:14.930493",
     "status": "completed"
    },
    "tags": []
   },
   "outputs": [],
   "source": []
  }
 ],
 "metadata": {
  "kernelspec": {
   "display_name": "Python 3",
   "language": "python",
   "name": "python3"
  },
  "language_info": {
   "codemirror_mode": {
    "name": "ipython",
    "version": 3
   },
   "file_extension": ".py",
   "mimetype": "text/x-python",
   "name": "python",
   "nbconvert_exporter": "python",
   "pygments_lexer": "ipython3",
   "version": "3.7.12"
  },
  "papermill": {
   "default_parameters": {},
   "duration": 109.607686,
   "end_time": "2022-06-28T13:56:19.121743",
   "environment_variables": {},
   "exception": null,
   "input_path": "__notebook__.ipynb",
   "output_path": "__notebook__.ipynb",
   "parameters": {},
   "start_time": "2022-06-28T13:54:29.514057",
   "version": "2.3.4"
  }
 },
 "nbformat": 4,
 "nbformat_minor": 5
}
